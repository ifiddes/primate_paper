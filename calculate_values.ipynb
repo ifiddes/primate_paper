{
 "cells": [
  {
   "cell_type": "code",
   "execution_count": 29,
   "metadata": {
    "collapsed": true
   },
   "outputs": [],
   "source": [
    "import pandas as pd\n",
    "import os\n",
    "from collections import *\n",
    "from tools.sqlInterface import *\n",
    "from tools.misc import *\n",
    "from tools.transcripts import *"
   ]
  },
  {
   "cell_type": "code",
   "execution_count": 30,
   "metadata": {
    "collapsed": false
   },
   "outputs": [],
   "source": [
    "dfs = OrderedDict()\n",
    "base_dir = '/hive/groups/recon/projs/primates/primates_indel_corrected_bionano_cut'\n",
    "for genome in ['Clint_Chimp', 'Susie_Gorilla', 'Susie_Orangutan']:\n",
    "    dfs[genome] = pd.read_csv(os.path.join(base_dir, 'consensus_gene_set', genome + '.gp_info'), sep='\\t', header=0)\n",
    "dfs['Human'] = load_annotation(os.path.join(base_dir, 'databases', 'Human.db'))"
   ]
  },
  {
   "cell_type": "code",
   "execution_count": 31,
   "metadata": {
    "collapsed": false
   },
   "outputs": [],
   "source": [
    "txs = OrderedDict()\n",
    "for genome in ['Clint_Chimp', 'Susie_Gorilla', 'Susie_Orangutan']:\n",
    "    txs[genome] = get_gene_pred_dict(os.path.join(base_dir, 'consensus_gene_set', genome + '.gp'))\n",
    "txs['Human'] = get_gene_pred_dict(os.path.join(base_dir, 'reference', 'gencode.v27.annotation.no_PAR.gp'))"
   ]
  },
  {
   "cell_type": "code",
   "execution_count": 32,
   "metadata": {
    "collapsed": false
   },
   "outputs": [],
   "source": [
    "# load iPSC expression data\n",
    "kallisto_dir = 'kallisto_expression/'\n",
    "kallisto_expressed = {}\n",
    "kallisto_expressed_txs = {}\n",
    "for genome in ['Clint_Chimp', 'Susie_Gorilla', 'Susie_Orangutan', 'Human']:\n",
    "    if genome == 'Human':\n",
    "        df = pd.read_csv(os.path.join(kallisto_dir, 'Human_GENCODE_V27/abundance.tsv'), sep='\\t')\n",
    "        df = df.merge(dfs[genome], left_on='target_id', right_on='TranscriptId')\n",
    "        df.rename(columns={'TranscriptId': 'transcript_id', 'GeneId': 'gene_id'}, inplace=True)\n",
    "    else:\n",
    "        df = pd.read_csv(os.path.join(kallisto_dir, genome + '_CAT', 'abundance.tsv'), sep='\\t')\n",
    "        # remove stupid strand identifier\n",
    "        df['target_id'] = [x.split('(')[0] for x in df['target_id']]\n",
    "        df = df.merge(dfs[genome], left_on='target_id', right_on='transcript_id')\n",
    "    kallisto_expressed_txs[genome] = set(df[df.tpm > 0.1].transcript_id)\n",
    "    df = df[['gene_id', 'tpm']].groupby('gene_id').aggregate(sum)\n",
    "    expressed = df[df.tpm > 0.1]\n",
    "    kallisto_expressed[genome] = set(expressed.reset_index().gene_id)"
   ]
  },
  {
   "cell_type": "code",
   "execution_count": 33,
   "metadata": {
    "collapsed": false
   },
   "outputs": [],
   "source": [
    "# add ICE support\n",
    "ice_dir = 'isoseq_ice_isoform/tofu_results'\n",
    "exact_matches = {}\n",
    "for genome in ['Clint_Chimp', 'Susie_Gorilla', 'Susie_Orangutan']:\n",
    "    iso_txs = get_gene_pred_dict(os.path.join(ice_dir, genome + '.collapsed.gp'))\n",
    "    iso_txs = {x: y for x, y in iso_txs.iteritems() if len(y.exon_intervals) > 1}\n",
    "    clustered = cluster_txs(txs[genome].values() + iso_txs.values())\n",
    "    divided_clusters = divide_clusters(clustered, txs[genome].viewkeys())\n",
    "    subset_matches = calculate_subset_matches(divided_clusters)\n",
    "    # invert the subset_matches to extract all validated tx_ids\n",
    "    validated_ids = set()\n",
    "    for tx_list in subset_matches.itervalues():\n",
    "        for tx in tx_list:\n",
    "            validated_ids.add(tx.name)\n",
    "    exact_matches[genome] = validated_ids"
   ]
  },
  {
   "cell_type": "code",
   "execution_count": 34,
   "metadata": {
    "collapsed": false
   },
   "outputs": [
    {
     "name": "stdout",
     "output_type": "stream",
     "text": [
      "                                              0              1  \\\n",
      "genome                              Clint_Chimp  Susie_Gorilla   \n",
      "genes                                     57001          57091   \n",
      "transcripts                              198988         199203   \n",
      "orthologs                                 56721          56750   \n",
      "coding genes                              19568          19591   \n",
      "coding txs                                79179          79145   \n",
      "CGP/PB transcripts                         3363           3565   \n",
      "percent CGP/PB with TPM > 0.1           66.2801        46.9565   \n",
      "percent CGP/PB supported by IsoSeq      66.2801        46.2272   \n",
      "percent CGP/PB supported by ICE         21.1418        19.6634   \n",
      "\n",
      "                                                  2  \n",
      "genome                              Susie_Orangutan  \n",
      "genes                                         56414  \n",
      "transcripts                                  197713  \n",
      "orthologs                                     56161  \n",
      "coding genes                                  19516  \n",
      "coding txs                                    79114  \n",
      "CGP/PB transcripts                             2810  \n",
      "percent CGP/PB with TPM > 0.1               50.7829  \n",
      "percent CGP/PB supported by IsoSeq          63.0605  \n",
      "percent CGP/PB supported by ICE              16.548  \n"
     ]
    }
   ],
   "source": [
    "# construct table for great ape paper\n",
    "# rows:\n",
    "# number of genes\n",
    "# number of transcripts\n",
    "# number of human orthologs\n",
    "# number of coding genes\n",
    "# number of coding transcripts\n",
    "# number of ab-initio transcripts included\n",
    "# percent of ab-initio predictions with TPM > 0.1\n",
    "# percent of ab-initio predictions supported by IsoSeq\n",
    "# number of isoforms with ICE support\n",
    "d = []\n",
    "for genome, df in dfs.iteritems():\n",
    "    if genome == 'Human':\n",
    "        continue\n",
    "    tot_genes = len(set(df.gene_id))\n",
    "    tot_txs = len(df)\n",
    "    tot_ortho = len(set(df[df.gene_biotype != 'unknown_likely_coding'].gene_id))\n",
    "    coding_genes = len(set(df[df.gene_biotype == 'protein_coding'].gene_id))\n",
    "    coding_txs = len(df[df.transcript_biotype == 'protein_coding'].transcript_id)\n",
    "    cgp_pb_txs = df[df.transcript_biotype == 'unknown_likely_coding']\n",
    "    cgp_pb_supported = cgp_pb_txs[cgp_pb_txs.transcript_id.isin(kallisto_expressed_txs[genome])]\n",
    "    cgp_pb_isoseq = cgp_pb_txs[cgp_pb_txs.pacbio_isoform_supported]\n",
    "    cgp_pb_ice = len(exact_matches[genome] & set(cgp_pb_txs.transcript_id))\n",
    "    d.append([genome, tot_genes, tot_txs, tot_ortho, coding_genes, coding_txs, len(cgp_pb_txs), \n",
    "              100.0 * len(cgp_pb_supported) / len(cgp_pb_txs),\n",
    "              100.0 * len(cgp_pb_isoseq) / len(cgp_pb_txs),\n",
    "             100.0 * cgp_pb_ice / len(cgp_pb_txs)])\n",
    "    \n",
    "tdf = pd.DataFrame(d, columns=['genome', 'genes', 'transcripts', 'orthologs', 'coding genes', 'coding txs',\n",
    "                               'CGP/PB transcripts', 'percent CGP/PB with TPM > 0.1',\n",
    "                               'percent CGP/PB supported by IsoSeq',\n",
    "                               'percent CGP/PB supported by ICE'])\n",
    "print tdf.T\n",
    "tdf.T.to_csv('count_table.tsv', sep='\\t')"
   ]
  },
  {
   "cell_type": "code",
   "execution_count": 35,
   "metadata": {
    "collapsed": false
   },
   "outputs": [
    {
     "name": "stdout",
     "output_type": "stream",
     "text": [
      "                                0              1                2\n",
      "genome                Clint_Chimp  Susie_Gorilla  Susie_Orangutan\n",
      "genes                       57001          57091            56414\n",
      "transcripts                198988         199203           197713\n",
      "orthologs                   56721          56750            56161\n",
      "coding genes                19568          19591            19516\n",
      "coding txs                  79179          79145            79114\n",
      "novel genes                   200            233              201\n",
      "novel isoforms (cgp)          591            646              482\n",
      "novel isoforms (pb)          2231           2273             1859\n",
      "total PB                     2630           2768             2193\n",
      "total CGP                     733            797              617\n"
     ]
    }
   ],
   "source": [
    "# calculate gene totals for CAT paper\n",
    "d = []\n",
    "for genome, df in dfs.iteritems():\n",
    "    if genome == 'Human':\n",
    "        continue\n",
    "    tot_genes = len(set(df.gene_id))\n",
    "    tot_txs = len(df)\n",
    "    tot_ortho = len(set(df[df.gene_biotype != 'unknown_likely_coding'].gene_id))\n",
    "    coding_genes = len(set(df[df.gene_biotype == 'protein_coding'].gene_id))\n",
    "    coding_txs = len(set(df[df.transcript_biotype == 'protein_coding'].transcript_id))\n",
    "    \n",
    "    novel_genes = len(set(df[(df.transcript_class == 'possible_paralog')].gene_id))\n",
    "    novel_iso_pb =  len(df[(df.transcript_class == 'putative_novel_isoform')\n",
    "                               & (df.transcript_modes == 'augPB')])\n",
    "    novel_iso_cgp =  len(df[(df.transcript_class == 'putative_novel_isoform')\n",
    "                               & (df.transcript_modes == 'augCGP')])\n",
    "    iso_pb = len((df[df.transcript_modes == 'augPB']))\n",
    "    cgp = len((df[df.transcript_modes == 'augCGP']))\n",
    "    d.append([genome, tot_genes, tot_txs, tot_ortho, coding_genes, coding_txs, novel_genes, novel_iso_cgp, novel_iso_pb, iso_pb, cgp])\n",
    "\n",
    "tdf = pd.DataFrame(d, columns=['genome', 'genes', 'transcripts', 'orthologs', 'coding genes', 'coding txs',\n",
    "                              'novel genes', 'novel isoforms (cgp)', 'novel isoforms (pb)', 'total PB', 'total CGP'])\n",
    "print tdf.T"
   ]
  },
  {
   "cell_type": "code",
   "execution_count": 36,
   "metadata": {
    "collapsed": false
   },
   "outputs": [
    {
     "name": "stdout",
     "output_type": "stream",
     "text": [
      "                                                0              1  \\\n",
      "genome                                Clint_Chimp  Susie_Gorilla   \n",
      "AugustusPB putative novel isoform            1726           1255   \n",
      "AugustusCGP putative novel isoform            268            190   \n",
      "AugustusPB putative paralogous loci            71             63   \n",
      "AugustusCGP putative paralogous loci           20             12   \n",
      "\n",
      "                                                    2  \n",
      "genome                                Susie_Orangutan  \n",
      "AugustusPB putative novel isoform                1428  \n",
      "AugustusCGP putative novel isoform                177  \n",
      "AugustusPB putative paralogous loci                72  \n",
      "AugustusCGP putative paralogous loci               12  \n"
     ]
    }
   ],
   "source": [
    "# how many CGP/PB are fully supported?\n",
    "\n",
    "d2 = []\n",
    "for genome, df in dfs.iteritems():\n",
    "    if genome == 'Human':\n",
    "        continue\n",
    "    pb = df[(df.transcript_modes == 'augPB') & (df.pacbio_isoform_supported)]\n",
    "    cgp = df[(df.transcript_modes == 'augCGP') & (df.pacbio_isoform_supported)]\n",
    "    pb_iso = pb[pb.transcript_class == 'putative_novel_isoform']\n",
    "    cgp_iso = cgp[cgp.transcript_class == 'putative_novel_isoform']\n",
    "    pb_novel = pb[pb.transcript_class == 'possible_paralog']\n",
    "    cgp_novel = cgp[cgp.transcript_class == 'possible_paralog']\n",
    "    d2.append([genome, len(pb_iso), len(cgp_iso), len(set(pb_novel.gene_id)), len(set(cgp_novel.gene_id))])\n",
    "    \n",
    "d2df = pd.DataFrame(d2, columns=['genome', 'AugustusPB putative novel isoform', 'AugustusCGP putative novel isoform', 'AugustusPB putative paralogous loci', 'AugustusCGP putative paralogous loci'])\n",
    "print d2df.T\n",
    "\n",
    "d2df.T.to_csv('novel.tsv', sep='\\t')"
   ]
  },
  {
   "cell_type": "code",
   "execution_count": 37,
   "metadata": {
    "collapsed": false
   },
   "outputs": [
    {
     "name": "stdout",
     "output_type": "stream",
     "text": [
      "Clint_Chimp: 97.5% genes\n",
      "Clint_Chimp: 97.9% transcripts\n",
      "Susie_Gorilla: 97.5% genes\n",
      "Susie_Gorilla: 97.9% transcripts\n",
      "Susie_Orangutan: 96.5% genes\n",
      "Susie_Orangutan: 97.5% transcripts\n"
     ]
    },
    {
     "ename": "AttributeError",
     "evalue": "'DataFrame' object has no attribute 'source_transcript_name'",
     "output_type": "error",
     "traceback": [
      "\u001b[1;31m---------------------------------------------------------------------------\u001b[0m",
      "\u001b[1;31mAttributeError\u001b[0m                            Traceback (most recent call last)",
      "\u001b[1;32m<ipython-input-37-e246b7692cd3>\u001b[0m in \u001b[0;36m<module>\u001b[1;34m()\u001b[0m\n\u001b[0;32m      4\u001b[0m \u001b[1;33m\u001b[0m\u001b[0m\n\u001b[0;32m      5\u001b[0m \u001b[1;32mfor\u001b[0m \u001b[0mgenome\u001b[0m\u001b[1;33m,\u001b[0m \u001b[0mdf\u001b[0m \u001b[1;32min\u001b[0m \u001b[0mdfs\u001b[0m\u001b[1;33m.\u001b[0m\u001b[0miteritems\u001b[0m\u001b[1;33m(\u001b[0m\u001b[1;33m)\u001b[0m\u001b[1;33m:\u001b[0m\u001b[1;33m\u001b[0m\u001b[0m\n\u001b[1;32m----> 6\u001b[1;33m     \u001b[0mtot_genes\u001b[0m \u001b[1;33m=\u001b[0m \u001b[0mlen\u001b[0m\u001b[1;33m(\u001b[0m\u001b[0mset\u001b[0m\u001b[1;33m(\u001b[0m\u001b[0mdf\u001b[0m\u001b[1;33m[\u001b[0m\u001b[1;33m~\u001b[0m\u001b[0mdf\u001b[0m\u001b[1;33m.\u001b[0m\u001b[0msource_transcript_name\u001b[0m\u001b[1;33m.\u001b[0m\u001b[0misnull\u001b[0m\u001b[1;33m(\u001b[0m\u001b[1;33m)\u001b[0m\u001b[1;33m]\u001b[0m\u001b[1;33m.\u001b[0m\u001b[0mgene_id\u001b[0m\u001b[1;33m)\u001b[0m\u001b[1;33m)\u001b[0m\u001b[1;33m\u001b[0m\u001b[0m\n\u001b[0m\u001b[0;32m      7\u001b[0m     \u001b[0mtot_txs\u001b[0m \u001b[1;33m=\u001b[0m \u001b[0mlen\u001b[0m\u001b[1;33m(\u001b[0m\u001b[0mdf\u001b[0m\u001b[1;33m[\u001b[0m\u001b[1;33m~\u001b[0m\u001b[0mdf\u001b[0m\u001b[1;33m.\u001b[0m\u001b[0msource_transcript_name\u001b[0m\u001b[1;33m.\u001b[0m\u001b[0misnull\u001b[0m\u001b[1;33m(\u001b[0m\u001b[1;33m)\u001b[0m\u001b[1;33m]\u001b[0m\u001b[1;33m)\u001b[0m\u001b[1;33m\u001b[0m\u001b[0m\n\u001b[0;32m      8\u001b[0m     \u001b[1;32mprint\u001b[0m \u001b[1;34m\"{}: {:.1%} genes\"\u001b[0m\u001b[1;33m.\u001b[0m\u001b[0mformat\u001b[0m\u001b[1;33m(\u001b[0m\u001b[0mgenome\u001b[0m\u001b[1;33m,\u001b[0m \u001b[1;36m1.0\u001b[0m \u001b[1;33m*\u001b[0m \u001b[0mtot_genes\u001b[0m \u001b[1;33m/\u001b[0m \u001b[0mref_genes\u001b[0m\u001b[1;33m)\u001b[0m\u001b[1;33m\u001b[0m\u001b[0m\n",
      "\u001b[1;32m/cluster/home/ifiddes/anaconda2/lib/python2.7/site-packages/pandas/core/generic.pyc\u001b[0m in \u001b[0;36m__getattr__\u001b[1;34m(self, name)\u001b[0m\n\u001b[0;32m   2670\u001b[0m             \u001b[1;32mif\u001b[0m \u001b[0mname\u001b[0m \u001b[1;32min\u001b[0m \u001b[0mself\u001b[0m\u001b[1;33m.\u001b[0m\u001b[0m_info_axis\u001b[0m\u001b[1;33m:\u001b[0m\u001b[1;33m\u001b[0m\u001b[0m\n\u001b[0;32m   2671\u001b[0m                 \u001b[1;32mreturn\u001b[0m \u001b[0mself\u001b[0m\u001b[1;33m[\u001b[0m\u001b[0mname\u001b[0m\u001b[1;33m]\u001b[0m\u001b[1;33m\u001b[0m\u001b[0m\n\u001b[1;32m-> 2672\u001b[1;33m             \u001b[1;32mreturn\u001b[0m \u001b[0mobject\u001b[0m\u001b[1;33m.\u001b[0m\u001b[0m__getattribute__\u001b[0m\u001b[1;33m(\u001b[0m\u001b[0mself\u001b[0m\u001b[1;33m,\u001b[0m \u001b[0mname\u001b[0m\u001b[1;33m)\u001b[0m\u001b[1;33m\u001b[0m\u001b[0m\n\u001b[0m\u001b[0;32m   2673\u001b[0m \u001b[1;33m\u001b[0m\u001b[0m\n\u001b[0;32m   2674\u001b[0m     \u001b[1;32mdef\u001b[0m \u001b[0m__setattr__\u001b[0m\u001b[1;33m(\u001b[0m\u001b[0mself\u001b[0m\u001b[1;33m,\u001b[0m \u001b[0mname\u001b[0m\u001b[1;33m,\u001b[0m \u001b[0mvalue\u001b[0m\u001b[1;33m)\u001b[0m\u001b[1;33m:\u001b[0m\u001b[1;33m\u001b[0m\u001b[0m\n",
      "\u001b[1;31mAttributeError\u001b[0m: 'DataFrame' object has no attribute 'source_transcript_name'"
     ]
    }
   ],
   "source": [
    "annotation_df = dfs['Human']\n",
    "ref_genes = len(set(annotation_df.GeneId))\n",
    "ref_txs = len(annotation_df)\n",
    "\n",
    "for genome, df in dfs.iteritems():\n",
    "    tot_genes = len(set(df[~df.source_transcript_name.isnull()].gene_id))\n",
    "    tot_txs = len(df[~df.source_transcript_name.isnull()])\n",
    "    print \"{}: {:.1%} genes\".format(genome, 1.0 * tot_genes / ref_genes)\n",
    "    print \"{}: {:.1%} transcripts\".format(genome, 1.0 * tot_txs / ref_txs)"
   ]
  },
  {
   "cell_type": "code",
   "execution_count": null,
   "metadata": {
    "collapsed": false
   },
   "outputs": [],
   "source": [
    "name_map = {u'3prime_overlapping_ncrna': 'ncRNA',\n",
    " u'IG_C_gene': 'other',\n",
    " u'IG_C_pseudogene': 'pseudogene',\n",
    " u'IG_D_gene': 'other',\n",
    " u'IG_J_gene': 'other',\n",
    " u'IG_J_pseudogene': 'pseudogene',\n",
    " u'IG_V_gene': 'other',\n",
    " u'IG_V_pseudogene': 'pseudogene',\n",
    " u'Mt_rRNA': 'other',\n",
    " u'Mt_tRNA': 'other',\n",
    " u'TEC': 'other',\n",
    " u'TR_C_gene': 'other',\n",
    " u'TR_J_gene': 'other',\n",
    " u'TR_J_pseudogene': 'pseudogene',\n",
    " u'TR_V_gene': 'other',\n",
    "u'TR_D_gene': 'other',\n",
    " u'TR_V_pseudogene': 'pseudogene',\n",
    " u'antisense': 'other',\n",
    " u'bidirectional_promoter_lncrna': 'lncRNA',\n",
    " u'lincRNA': 'lncRNA',\n",
    " u'macro_lncRNA': 'lncRNA',\n",
    " u'miRNA': 'ncRNA',\n",
    " u'misc_RNA': 'ncRNA',\n",
    " u'non_coding': 'ncRNA',\n",
    " u'non_stop_decay': 'other',\n",
    " u'nonsense_mediated_decay': 'other',\n",
    " u'polymorphic_pseudogene': 'pseudogene',\n",
    " u'processed_pseudogene': 'pseudogene',\n",
    " u'processed_transcript': 'other',\n",
    " u'protein_coding': 'protein coding',\n",
    " u'pseudogene': 'pseudogene',\n",
    " u'rRNA': 'other',\n",
    " u'retained_intron': 'other',\n",
    " u'ribozyme': 'ncRNA',\n",
    " u'sRNA': 'ncRNA',\n",
    " u'scaRNA': 'ncRNA',\n",
    " u'sense_intronic': 'other',\n",
    " u'sense_overlapping': 'other',\n",
    " u'snRNA': 'ncRNA',\n",
    " u'snoRNA': 'ncRNA',\n",
    " u'transcribed_processed_pseudogene': 'pseudogene',\n",
    " u'transcribed_unitary_pseudogene': 'pseudogene',\n",
    " u'transcribed_unprocessed_pseudogene': 'pseudogene',\n",
    " u'translated_unprocessed_pseudogene': 'pseudogene',\n",
    " u'unitary_pseudogene': 'pseudogene',\n",
    " u'unprocessed_pseudogene': 'pseudogene',\n",
    " u'vaultRNA': 'ncRNA'}\n",
    "\n",
    "\n",
    "for g, df in dfs.iteritems():\n",
    "    df['simplified_biotype'] = [name_map.get(x, x) for x in df.gene_biotype]"
   ]
  },
  {
   "cell_type": "code",
   "execution_count": null,
   "metadata": {
    "collapsed": true
   },
   "outputs": [],
   "source": []
  }
 ],
 "metadata": {
  "anaconda-cloud": {},
  "kernelspec": {
   "display_name": "Python [Root]",
   "language": "python",
   "name": "Python [Root]"
  },
  "language_info": {
   "codemirror_mode": {
    "name": "ipython",
    "version": 2
   },
   "file_extension": ".py",
   "mimetype": "text/x-python",
   "name": "python",
   "nbconvert_exporter": "python",
   "pygments_lexer": "ipython2",
   "version": "2.7.11"
  }
 },
 "nbformat": 4,
 "nbformat_minor": 1
}
