{
 "cells": [
  {
   "cell_type": "code",
   "execution_count": 51,
   "metadata": {
    "collapsed": true
   },
   "outputs": [],
   "source": [
    "import pandas as pd\n",
    "import os\n",
    "from collections import *\n",
    "from tools.sqlInterface import *\n",
    "from tools.misc import *\n",
    "from tools.transcripts import *"
   ]
  },
  {
   "cell_type": "code",
   "execution_count": 60,
   "metadata": {
    "collapsed": false
   },
   "outputs": [],
   "source": [
    "dfs = OrderedDict()\n",
    "base_dir = '/hive/groups/recon/projs/primates/primates_indel_corrected_bionano_cut'\n",
    "for genome in ['Clint_Chimp', 'Susie_Gorilla', 'Susie_Orangutan']:\n",
    "    dfs[genome] = pd.read_csv(os.path.join(base_dir, 'consensus_gene_set', genome + '.fixed.filtered.gp_info'), sep='\\t', header=0)\n",
    "dfs['Human'] = load_annotation(os.path.join(base_dir, 'databases', 'Human.db'))"
   ]
  },
  {
   "cell_type": "code",
   "execution_count": 61,
   "metadata": {
    "collapsed": false
   },
   "outputs": [],
   "source": [
    "txs = OrderedDict()\n",
    "for genome in ['Clint_Chimp', 'Susie_Gorilla', 'Susie_Orangutan']:\n",
    "    txs[genome] = get_gene_pred_dict(os.path.join(base_dir, 'consensus_gene_set', genome + '.filtered.gp'))\n",
    "txs['Human'] = get_gene_pred_dict(os.path.join(base_dir, 'reference', 'gencode.v27.annotation.no_PAR.gp'))"
   ]
  },
  {
   "cell_type": "code",
   "execution_count": 62,
   "metadata": {
    "collapsed": false
   },
   "outputs": [],
   "source": [
    "# load iPSC expression data\n",
    "kallisto_dir = 'kallisto_expression/'\n",
    "kallisto_expressed = {}\n",
    "kallisto_expressed_txs = {}\n",
    "for genome in ['Clint_Chimp', 'Susie_Gorilla', 'Susie_Orangutan', 'Human']:\n",
    "    if genome == 'Human':\n",
    "        df = pd.read_csv(os.path.join(kallisto_dir, 'Human_GENCODE_V27/abundance.tsv'), sep='\\t')\n",
    "        df = df.merge(dfs[genome], left_on='target_id', right_on='TranscriptId')\n",
    "        df.rename(columns={'TranscriptId': 'transcript_id', 'GeneId': 'gene_id'}, inplace=True)\n",
    "    else:\n",
    "        df = pd.read_csv(os.path.join(kallisto_dir, genome + '_CAT', 'abundance.tsv'), sep='\\t')\n",
    "        # remove stupid strand identifier\n",
    "        df['target_id'] = [x.split('(')[0] for x in df['target_id']]\n",
    "        #df = df.merge(dfs[genome], left_on='target_id', right_on='transcript_id')\n",
    "        df = dfs[genome].merge(df, left_on='transcript_id', right_on='target_id')\n",
    "    kallisto_expressed_txs[genome] = set(df[df.tpm > 0.1].transcript_id)\n",
    "    df = df[['gene_id', 'tpm']].groupby('gene_id').aggregate(sum)\n",
    "    expressed = df[df.tpm > 0.1]\n",
    "    kallisto_expressed[genome] = set(expressed.reset_index().gene_id)"
   ]
  },
  {
   "cell_type": "code",
   "execution_count": 63,
   "metadata": {
    "collapsed": false
   },
   "outputs": [],
   "source": [
    "# add ICE support\n",
    "ice_dir = 'isoseq_ice_isoform/tofu_results'\n",
    "exact_matches = {}\n",
    "for genome in ['Clint_Chimp', 'Susie_Gorilla', 'Susie_Orangutan']:\n",
    "    iso_txs = get_gene_pred_dict(os.path.join(ice_dir, genome + '.collapsed.gp'))\n",
    "    iso_txs = {x: y for x, y in iso_txs.iteritems() if len(y.exon_intervals) > 1}\n",
    "    clustered = cluster_txs(txs[genome].values() + iso_txs.values())\n",
    "    divided_clusters = divide_clusters(clustered, txs[genome].viewkeys())\n",
    "    subset_matches = calculate_subset_matches(divided_clusters)\n",
    "    # invert the subset_matches to extract all validated tx_ids\n",
    "    validated_ids = set()\n",
    "    for tx_list in subset_matches.itervalues():\n",
    "        for tx in tx_list:\n",
    "            validated_ids.add(tx.name)\n",
    "    exact_matches[genome] = validated_ids"
   ]
  },
  {
   "cell_type": "code",
   "execution_count": 69,
   "metadata": {
    "collapsed": false
   },
   "outputs": [
    {
     "name": "stdout",
     "output_type": "stream",
     "text": [
      "                                              0              1  \\\n",
      "genome                              Clint_Chimp  Susie_Gorilla   \n",
      "genes                                     55894          55985   \n",
      "transcripts                              192725         192734   \n",
      "orthologs                                 55586          55570   \n",
      "coding genes                              19153          19311   \n",
      "coding txs                                92610          92713   \n",
      "CGP/PB transcripts                         3237           3471   \n",
      "percent CGP/PB with TPM > 0.1            66.296        67.3293   \n",
      "percent CGP/PB supported by IsoSeq      66.5431        46.4708   \n",
      "percent CGP/PB supported by ICE         21.5632        19.6197   \n",
      "\n",
      "                                                  2  \n",
      "genome                              Susie_Orangutan  \n",
      "genes                                         55222  \n",
      "transcripts                                  190716  \n",
      "orthologs                                     54898  \n",
      "coding genes                                  19043  \n",
      "coding txs                                    91578  \n",
      "CGP/PB transcripts                             2741  \n",
      "percent CGP/PB with TPM > 0.1               50.6385  \n",
      "percent CGP/PB supported by IsoSeq           63.371  \n",
      "percent CGP/PB supported by ICE             16.5633  \n"
     ]
    }
   ],
   "source": [
    "coding_biotypes = {'IG_C_gene',\n",
    "                           'IG_D_gene',\n",
    "                           'IG_J_gene',\n",
    "                           'IG_V_gene',\n",
    "                           'IG_LV_gene',\n",
    "                           'polymorphic_pseudogene',\n",
    "                           'protein_coding',\n",
    "                           'nonsense_mediated_decay',\n",
    "                           'TR_gene',\n",
    "                           'TR_C_gene',\n",
    "                           'TR_D_gene',\n",
    "                           'TR_J_gene',\n",
    "                           'TR_V_gene',\n",
    "                           'non_stop_decay',\n",
    "                  'unknown_likely_coding'}\n",
    "\n",
    "\n",
    "# construct table for great ape paper\n",
    "# rows:\n",
    "# number of genes\n",
    "# number of transcripts\n",
    "# number of human orthologs\n",
    "# number of coding genes\n",
    "# number of coding transcripts\n",
    "# number of ab-initio transcripts included\n",
    "# percent of ab-initio predictions with TPM > 0.1\n",
    "# percent of ab-initio predictions supported by IsoSeq\n",
    "# number of isoforms with ICE support\n",
    "d = []\n",
    "for genome, df in dfs.iteritems():\n",
    "    if genome == 'Human':\n",
    "        continue\n",
    "    tot_genes = len(set(df.gene_id))\n",
    "    tot_txs = len(df)\n",
    "    tot_ortho = len(set(df[df.gene_biotype != 'unknown_likely_coding'].gene_id))\n",
    "    coding_genes = len(set(df[df.gene_biotype.isin(coding_biotypes)].gene_id))\n",
    "    coding_txs = len(df[df.transcript_biotype.isin(coding_biotypes)].transcript_id)\n",
    "    cgp_pb_txs = df[df.transcript_biotype == 'unknown_likely_coding']\n",
    "    cgp_pb_supported = cgp_pb_txs[cgp_pb_txs.transcript_id.isin(kallisto_expressed_txs[genome])]\n",
    "    cgp_pb_isoseq = cgp_pb_txs[cgp_pb_txs.pacbio_isoform_supported]\n",
    "    cgp_pb_ice = len(exact_matches[genome] & set(cgp_pb_txs.transcript_id))\n",
    "    d.append([genome, tot_genes, tot_txs, tot_ortho, coding_genes, coding_txs, len(cgp_pb_txs), \n",
    "              100.0 * len(cgp_pb_supported) / len(cgp_pb_txs),\n",
    "              100.0 * len(cgp_pb_isoseq) / len(cgp_pb_txs),\n",
    "             100.0 * cgp_pb_ice / len(cgp_pb_txs)])\n",
    "    \n",
    "tdf = pd.DataFrame(d, columns=['genome', 'genes', 'transcripts', 'orthologs', 'coding genes', 'coding txs',\n",
    "                               'CGP/PB transcripts', 'percent CGP/PB with TPM > 0.1',\n",
    "                               'percent CGP/PB supported by IsoSeq',\n",
    "                               'percent CGP/PB supported by ICE'])\n",
    "print tdf.T\n",
    "tdf.T.to_csv('count_table.tsv', sep='\\t')"
   ]
  },
  {
   "cell_type": "code",
   "execution_count": 70,
   "metadata": {
    "collapsed": false
   },
   "outputs": [
    {
     "name": "stdout",
     "output_type": "stream",
     "text": [
      "                                0              1                2\n",
      "genome                Clint_Chimp  Susie_Gorilla  Susie_Orangutan\n",
      "genes                       55894          55985            55222\n",
      "transcripts                192725         192734           190716\n",
      "orthologs                   55594          55570            54900\n",
      "coding genes                19153          19311            19043\n",
      "coding txs                  75808          75568            75291\n",
      "novel genes                   300            415              322\n",
      "novel isoforms (cgp)          586            644              481\n",
      "novel isoforms (pb)          2223           2258             1852\n",
      "total PB                     2536           2689             2140\n",
      "total CGP                     701            782              601\n"
     ]
    }
   ],
   "source": [
    "# calculate gene totals for CAT paper\n",
    "d = []\n",
    "for genome, df in dfs.iteritems():\n",
    "    if genome == 'Human':\n",
    "        continue\n",
    "    tot_genes = len(set(df.gene_id))\n",
    "    tot_txs = len(df)\n",
    "    #tot_ortho = len(set(df[df.gene_biotype != 'unknown_likely_coding'].gene_id))\n",
    "    coding_genes = len(set(df[df.gene_biotype.isin(coding_biotypes)].gene_id))\n",
    "    coding_txs = len(set(df[df.transcript_biotype == 'protein_coding'].transcript_id))\n",
    "    novel_genes = len(set(df[(df.transcript_class == 'possible_paralog') | (df.transcript_class == 'putative_novel')].gene_id))\n",
    "    tot_ortho = tot_genes - novel_genes\n",
    "    novel_iso_pb =  len(df[(df.transcript_class == 'putative_novel_isoform')\n",
    "                               & (df.transcript_modes == 'augPB')])\n",
    "    novel_iso_cgp =  len(df[(df.transcript_class == 'putative_novel_isoform')\n",
    "                               & (df.transcript_modes == 'augCGP')])\n",
    "    iso_pb = len((df[df.transcript_modes == 'augPB']))\n",
    "    cgp = len((df[df.transcript_modes == 'augCGP']))\n",
    "    d.append([genome, tot_genes, tot_txs, tot_ortho, coding_genes, coding_txs, novel_genes, novel_iso_cgp, novel_iso_pb, iso_pb, cgp])\n",
    "\n",
    "tdf = pd.DataFrame(d, columns=['genome', 'genes', 'transcripts', 'orthologs', 'coding genes', 'coding txs',\n",
    "                              'novel genes', 'novel isoforms (cgp)', 'novel isoforms (pb)', 'total PB', 'total CGP'])\n",
    "print tdf.T"
   ]
  },
  {
   "cell_type": "code",
   "execution_count": 71,
   "metadata": {
    "collapsed": false
   },
   "outputs": [
    {
     "name": "stdout",
     "output_type": "stream",
     "text": [
      "                                                0              1  \\\n",
      "genome                                Clint_Chimp  Susie_Gorilla   \n",
      "AugustusPB putative novel isoform            1720           1251   \n",
      "AugustusCGP putative novel isoform            265            192   \n",
      "AugustusPB putative paralogous loci            52             48   \n",
      "AugustusCGP putative paralogous loci           14             11   \n",
      "\n",
      "                                                    2  \n",
      "genome                                Susie_Orangutan  \n",
      "AugustusPB putative novel isoform                1425  \n",
      "AugustusCGP putative novel isoform                178  \n",
      "AugustusPB putative paralogous loci                58  \n",
      "AugustusCGP putative paralogous loci                9  \n"
     ]
    }
   ],
   "source": [
    "# how many CGP/PB are fully supported?\n",
    "\n",
    "d2 = []\n",
    "for genome, df in dfs.iteritems():\n",
    "    if genome == 'Human':\n",
    "        continue\n",
    "    pb = df[(df.transcript_modes == 'augPB') & (df.pacbio_isoform_supported)]\n",
    "    cgp = df[(df.transcript_modes == 'augCGP') & (df.pacbio_isoform_supported)]\n",
    "    pb_iso = pb[pb.transcript_class == 'putative_novel_isoform']\n",
    "    cgp_iso = cgp[cgp.transcript_class == 'putative_novel_isoform']\n",
    "    pb_novel = pb[pb.transcript_class == 'possible_paralog']\n",
    "    cgp_novel = cgp[cgp.transcript_class == 'possible_paralog']\n",
    "    d2.append([genome, len(pb_iso), len(cgp_iso), len(set(pb_novel.gene_id)), len(set(cgp_novel.gene_id))])\n",
    "    \n",
    "d2df = pd.DataFrame(d2, columns=['genome', 'AugustusPB putative novel isoform', 'AugustusCGP putative novel isoform', 'AugustusPB putative paralogous loci', 'AugustusCGP putative paralogous loci'])\n",
    "print d2df.T\n",
    "\n",
    "d2df.T.to_csv('novel.tsv', sep='\\t')"
   ]
  },
  {
   "cell_type": "code",
   "execution_count": 67,
   "metadata": {
    "collapsed": false
   },
   "outputs": [
    {
     "name": "stdout",
     "output_type": "stream",
     "text": [
      "Clint_Chimp: 95.4% genes\n",
      "Clint_Chimp: 94.6% transcripts\n",
      "Susie_Gorilla: 95.4% genes\n",
      "Susie_Gorilla: 94.5% transcripts\n",
      "Susie_Orangutan: 94.2% genes\n",
      "Susie_Orangutan: 93.9% transcripts\n"
     ]
    }
   ],
   "source": [
    "annotation_df = dfs['Human']\n",
    "ref_genes = len(set(annotation_df.GeneId))\n",
    "ref_txs = len(annotation_df)\n",
    "\n",
    "for genome, df in dfs.iteritems():\n",
    "    if genome == 'Human':\n",
    "        continue\n",
    "    tot_genes = len(set(df[~df.source_transcript_name.isnull()].gene_id))\n",
    "    tot_txs = len(df[~df.source_transcript_name.isnull()])\n",
    "    print \"{}: {:.1%} genes\".format(genome, 1.0 * tot_genes / ref_genes)\n",
    "    print \"{}: {:.1%} transcripts\".format(genome, 1.0 * tot_txs / ref_txs)"
   ]
  },
  {
   "cell_type": "code",
   "execution_count": 68,
   "metadata": {
    "collapsed": false
   },
   "outputs": [],
   "source": [
    "from cat.consensus import *\n",
    "from tools.fileOps import *\n",
    "name_map = dict(zip(dfs['Human'].GeneId, dfs['Human'].GeneName))\n",
    "\n",
    "def find_common(s):\n",
    "    try:\n",
    "        names = s['Paralogous Gene Ids'].split(',')\n",
    "        return ','.join([name_map[x] for x in names])\n",
    "    except:\n",
    "        return None\n",
    "\n",
    "for g, df in dfs.iteritems():\n",
    "    if g == 'Human':\n",
    "        continue\n",
    "    novel_genes = df[(df.transcript_class == 'possible_paralog') | (df.transcript_class == 'putative_novel')]\n",
    "    alt_names = load_alt_names('../databases/{}.db'.format(g), ['augCGP', 'augPB'])\n",
    "    m = novel_genes.merge(alt_names, left_on='alignment_id', right_on='AlignmentId')\n",
    "    tx_objs = [txs[g][x] for x in novel_genes['transcript_id']]\n",
    "    useful = m[['transcript_id', 'gene_id', 'AlternativeGeneIds', 'transcript_class', 'transcript_modes']]\n",
    "    useful.columns = ['Transcript Id', 'Gene Id', 'Paralogous Gene Ids', 'Transcript Class', 'Transcript Mode']\n",
    "    useful['Paralogous Gene Names'] = useful.apply(find_common, axis=1)\n",
    "    useful = useful[['Transcript Id', 'Gene Id', 'Paralogous Gene Names', 'Paralogous Gene Ids', 'Transcript Class', 'Transcript Mode']]\n",
    "    useful = useful.set_index('Transcript Id')\n",
    "    with open('{}_novel_genes.txt'.format(g), 'w') as outf:\n",
    "        print_row(outf, ['Transcript Id', 'Gene Id', 'Paralogous Gene Names', 'Paralogous Gene Ids', \n",
    "                         'Transcript Class', 'Transcript Mode', 'chromosome', 'start', 'stop'])\n",
    "        for tx_id, s in useful.iterrows():\n",
    "            tx = txs[g][tx_id]\n",
    "            s = list(s)\n",
    "            print_row(outf, [tx_id] + s + [tx.chromosome, tx.start, tx.stop])\n",
    "        "
   ]
  },
  {
   "cell_type": "code",
   "execution_count": 81,
   "metadata": {
    "collapsed": false
   },
   "outputs": [],
   "source": [
    "name_map = {u'3prime_overlapping_ncrna': 'ncRNA',\n",
    " u'IG_C_gene': 'protein coding',\n",
    " u'IG_C_pseudogene': 'pseudogene',\n",
    " u'IG_D_gene': 'protein coding',\n",
    " u'IG_J_gene': 'protein coding',\n",
    " u'IG_J_pseudogene': 'pseudogene',\n",
    " u'IG_V_gene': 'protein coding',\n",
    " u'IG_V_pseudogene': 'pseudogene',\n",
    " u'Mt_rRNA': 'ncRNA',\n",
    " u'Mt_tRNA': 'ncRNA',\n",
    " u'TEC': 'protein coding',\n",
    " u'TR_C_gene': 'protein coding',\n",
    " u'TR_J_gene': 'protein coding',\n",
    " u'TR_J_pseudogene': 'pseudogene',\n",
    " u'TR_V_gene': 'protein coding',\n",
    " u'TR_V_pseudogene': 'pseudogene',\n",
    " u'antisense': 'ncRNA',\n",
    "u'antisense_RNA': 'ncRNA',\n",
    " u'bidirectional_promoter_lncrna': 'lncRNA',\n",
    " u'lincRNA': 'lncRNA',\n",
    " u'macro_lncRNA': 'lncRNA',\n",
    " u'miRNA': 'ncRNA',\n",
    " u'misc_RNA': 'ncRNA',\n",
    " u'non_coding': 'ncRNA',\n",
    " u'non_stop_decay': 'protein coding',\n",
    " u'nonsense_mediated_decay': 'protein coding',\n",
    " u'polymorphic_pseudogene': 'pseudogene',\n",
    " u'processed_pseudogene': 'pseudogene',\n",
    " u'processed_transcript': 'protein coding',\n",
    " u'protein_coding': 'protein coding',\n",
    " u'pseudogene': 'pseudogene',\n",
    " u'rRNA': 'ncRNA',\n",
    " u'retained_intron': 'protein coding',\n",
    " u'ribozyme': 'ncRNA',\n",
    " u'sRNA': 'ncRNA',\n",
    " u'scaRNA': 'ncRNA',\n",
    " u'sense_intronic': 'ncRNA',\n",
    " u'sense_overlapping': 'ncRNA',\n",
    " u'snRNA': 'ncRNA',\n",
    " u'snoRNA': 'ncRNA',\n",
    " u'transcribed_processed_pseudogene': 'pseudogene',\n",
    " u'transcribed_unitary_pseudogene': 'pseudogene',\n",
    " u'transcribed_unprocessed_pseudogene': 'pseudogene',\n",
    " u'translated_unprocessed_pseudogene': 'pseudogene',\n",
    " u'unitary_pseudogene': 'pseudogene',\n",
    " u'unprocessed_pseudogene': 'pseudogene',\n",
    " u'vaultRNA': 'ncRNA',\n",
    "           'unknown_likely_coding': 'protein coding',\n",
    "           'translated_processed_pseudogene': 'pseudogene',\n",
    "           '3prime_overlapping_ncRNA': 'ncRNA',\n",
    "           'bidirectional_promoter_lncRNA': 'lncRNA',\n",
    "           'TR_D_gene': 'protein coding',\n",
    "           'scRNA': 'ncRNA',\n",
    "           'IG_pseudogene': 'pseudogene'}\n",
    "\n",
    "for g, df in dfs.iteritems():\n",
    "    if g == 'Human':\n",
    "        continue\n",
    "    df['simplified biotype'] = [name_map[x] for x in df.gene_biotype]\n",
    "    df['simplified gene biotype'] = [name_map[x] for x in df.gene_biotype]\n",
    "    df['simplified transcript biotype'] = [name_map[x] for x in df.transcript_biotype]"
   ]
  },
  {
   "cell_type": "code",
   "execution_count": 82,
   "metadata": {
    "collapsed": true
   },
   "outputs": [],
   "source": [
    "# load old data\n",
    "d = '/hive/groups/recon/projs/primates/original_primates/redo_annotation_indel/consensus_gene_set'\n",
    "old_dfs = {}\n",
    "for g in ['Chimp', 'Gorilla', 'Orangutan']:\n",
    "    df = pd.read_csv(os.path.join(d, g + '.filtered.gp_info'), sep='\\t')\n",
    "    df['simplified gene biotype'] = [name_map[x] for x in df.gene_biotype]\n",
    "    df['simplified transcript biotype'] = [name_map[x] for x in df.transcript_biotype]\n",
    "    old_dfs[g] = df"
   ]
  },
  {
   "cell_type": "code",
   "execution_count": 117,
   "metadata": {
    "collapsed": false
   },
   "outputs": [
    {
     "name": "stdout",
     "output_type": "stream",
     "text": [
      "Gorilla 188403\n",
      "Chimp 189551\n",
      "Orangutan 186992\n"
     ]
    }
   ],
   "source": [
    "for g, df in old_dfs.iteritems():\n",
    "    print g, len(df)"
   ]
  },
  {
   "cell_type": "code",
   "execution_count": 118,
   "metadata": {
    "collapsed": false
   },
   "outputs": [
    {
     "name": "stdout",
     "output_type": "stream",
     "text": [
      "Clint_Chimp 192725\n",
      "Susie_Gorilla 192734\n",
      "Susie_Orangutan 190716\n",
      "Human 200243\n"
     ]
    }
   ],
   "source": [
    "for g, df in dfs.iteritems():\n",
    "    print g, len(df)"
   ]
  },
  {
   "cell_type": "code",
   "execution_count": 120,
   "metadata": {
    "collapsed": false
   },
   "outputs": [
    {
     "name": "stdout",
     "output_type": "stream",
     "text": [
      "gorilla: 4331\n",
      "orang: 3724\n",
      "chimp: 3174\n"
     ]
    }
   ],
   "source": [
    "print 'gorilla: {}'.format(len(dfs['Susie_Gorilla']) - len(old_dfs['Gorilla']))\n",
    "\n",
    "print 'orang: {}'.format(len(dfs['Susie_Orangutan']) - len(old_dfs['Orangutan']))\n",
    "\n",
    "print 'chimp: {}'.format(len(dfs['Clint_Chimp']) - len(old_dfs['Chimp']))"
   ]
  },
  {
   "cell_type": "code",
   "execution_count": 122,
   "metadata": {
    "collapsed": false
   },
   "outputs": [
    {
     "name": "stdout",
     "output_type": "stream",
     "text": [
      "3743.0\n"
     ]
    }
   ],
   "source": [
    "print (4331.0 + 3724 + 3174) / 3"
   ]
  },
  {
   "cell_type": "code",
   "execution_count": 126,
   "metadata": {
    "collapsed": false
   },
   "outputs": [
    {
     "name": "stdout",
     "output_type": "stream",
     "text": [
      "gorilla percent: 2.24713854328\n",
      "orang percent: 1.9526416242\n",
      "chimp percent: 1.64690621352\n"
     ]
    }
   ],
   "source": [
    "print 'gorilla percent: {}'.format(100.0 * (len(dfs['Susie_Gorilla']) - len(old_dfs['Gorilla'])) / len(dfs['Susie_Gorilla']))\n",
    "\n",
    "print 'orang percent: {}'.format(100.0 * (len(dfs['Susie_Orangutan']) - len(old_dfs['Orangutan'])) / len(dfs['Susie_Orangutan']))\n",
    "\n",
    "print 'chimp percent: {}'.format(100.0 * (len(dfs['Clint_Chimp']) - len(old_dfs['Chimp'])) / len(dfs['Clint_Chimp']))"
   ]
  },
  {
   "cell_type": "code",
   "execution_count": 127,
   "metadata": {
    "collapsed": false
   },
   "outputs": [
    {
     "name": "stdout",
     "output_type": "stream",
     "text": [
      "1.94889546033\n"
     ]
    }
   ],
   "source": [
    "print (2.24713854328 + 1.9526416242 + 1.64690621352) / 3"
   ]
  },
  {
   "cell_type": "code",
   "execution_count": 123,
   "metadata": {
    "collapsed": false
   },
   "outputs": [
    {
     "name": "stdout",
     "output_type": "stream",
     "text": [
      "gorilla gene: 821\n",
      "orang gene: 720\n",
      "chimp gene: 291\n"
     ]
    }
   ],
   "source": [
    "print 'gorilla gene: {}'.format(len(dfs['Susie_Gorilla'].groupby('gene_id').first()) - len(old_dfs['Gorilla'].groupby('gene_id').first()))\n",
    "\n",
    "print 'orang gene: {}'.format(len(dfs['Susie_Orangutan'].groupby('gene_id').first()) - len(old_dfs['Orangutan'].groupby('gene_id').first()))\n",
    "\n",
    "print 'chimp gene: {}'.format(len(dfs['Clint_Chimp'].groupby('gene_id').first()) - len(old_dfs['Chimp'].groupby('gene_id').first()))"
   ]
  },
  {
   "cell_type": "code",
   "execution_count": 124,
   "metadata": {
    "collapsed": false
   },
   "outputs": [
    {
     "name": "stdout",
     "output_type": "stream",
     "text": [
      "610.666666667\n"
     ]
    }
   ],
   "source": [
    "print (821 + 720 + 291) / 3.0"
   ]
  },
  {
   "cell_type": "code",
   "execution_count": 129,
   "metadata": {
    "collapsed": false
   },
   "outputs": [
    {
     "name": "stdout",
     "output_type": "stream",
     "text": [
      "gorilla gene percent: 99.0146646423\n",
      "orang gene percent: 99.0130382818\n",
      "chimp gene percent: 99.0052062833\n"
     ]
    }
   ],
   "source": [
    "g = len(dfs['Susie_Gorilla'].groupby('gene_id').first())\n",
    "print 'gorilla gene percent: {}'.format((100.0 * g - len(old_dfs['Gorilla'].groupby('gene_id').first())) / g)\n",
    "o = len(dfs['Susie_Orangutan'].groupby('gene_id').first())\n",
    "print 'orang gene percent: {}'.format((100.0 * o - len(old_dfs['Orangutan'].groupby('gene_id').first())) / o)\n",
    "c = len(dfs['Clint_Chimp'].groupby('gene_id').first())\n",
    "print 'chimp gene percent: {}'.format((100.0 * c - len(old_dfs['Chimp'].groupby('gene_id').first())) / c)"
   ]
  },
  {
   "cell_type": "code",
   "execution_count": 137,
   "metadata": {
    "collapsed": true
   },
   "outputs": [],
   "source": [
    "# munge into counts\n",
    "\n",
    "genome_map = {'Clint_Chimp': 'Clint/Chimp', 'Susie_Gorilla': 'Susie/Gorilla',\n",
    "             'Susie_Orangutan': 'Susie/Orangutan', 'Chimp': 'panTro4',\n",
    "             'Gorilla': 'gorGor4', 'Orangutan': 'ponAbe2'}\n",
    "\n",
    "counts = []\n",
    "for g, df in dfs.iteritems():\n",
    "    if g == 'Human':\n",
    "        continue\n",
    "    d = df.groupby('gene_id').first()\n",
    "    c = Counter(d['simplified gene biotype'])\n",
    "    for x, y in c.iteritems():\n",
    "        counts.append([genome_map[g], x, y])\n",
    "for g, df in old_dfs.iteritems():\n",
    "    d = df.groupby('gene_id').first()\n",
    "    c = Counter(d['simplified gene biotype'])\n",
    "    for x, y in c.iteritems():\n",
    "        counts.append([genome_map[g], x, y])\n",
    "count_df = pd.DataFrame(counts, columns=['genome', 'biotype', 'count'])"
   ]
  },
  {
   "cell_type": "code",
   "execution_count": 138,
   "metadata": {
    "collapsed": false
   },
   "outputs": [],
   "source": [
    "# delta DF\n",
    "order = ['protein coding', 'pseudogene', 'ncRNA', 'lncRNA']\n",
    "df = dfs['Human']\n",
    "d = df.groupby('GeneId').first()\n",
    "d['simplified gene biotype'] = [name_map[x] for x in d.GeneBiotype]\n",
    "c = Counter(d['simplified gene biotype'])\n"
   ]
  },
  {
   "cell_type": "code",
   "execution_count": 139,
   "metadata": {
    "collapsed": false
   },
   "outputs": [],
   "source": [
    "r = []\n",
    "for _, s in count_df.iterrows():\n",
    "    r.append([s.biotype, s.genome, 1.0 * s['count'] / c[s.biotype]])\n",
    "df2 = pd.DataFrame(r, columns=['biotype', 'genome', 'percent difference'])\n",
    "df2['biotype'] = pd.Categorical(df2['biotype'], order, ordered=True)\n",
    "df2 = df2.sort_values('biotype')"
   ]
  },
  {
   "cell_type": "code",
   "execution_count": 140,
   "metadata": {
    "collapsed": false
   },
   "outputs": [],
   "source": [
    "from cat.plots import *\n",
    "with open('primate_completeness_old_and_new.pdf', 'w') as outf, PdfPages(outf) as pdf:\n",
    "    g = sns.factorplot(data=count_df, x='genome', y='count', hue='biotype', kind='bar',\n",
    "                       hue_order=order, x_order=['panTro4', 'Clint/Chimp',\n",
    "                                                 'gorGor4', 'Susie/Gorilla',\n",
    "                                                 'ponAbe2', 'Susie/Orangutan'], size=6)\n",
    "    ax = g.axes[0][0]\n",
    "    ax.set_ylim(0, 21000)\n",
    "    ax.set_ylabel('Number of genes')\n",
    "    g.fig.suptitle('Completeness of comparative annotation')\n",
    "    for i, p in enumerate(ax.patches):\n",
    "        ax.text(p.get_x() + 0.025, p.get_height() + 2500,\n",
    "               '{:.1%}'.format(df2.iloc[i]['percent difference']),\n",
    "               size=10, rotation=90)\n",
    "    g.set_xticklabels(rotation=90)\n",
    "    g.fig.subplots_adjust(top=0.85, bottom=0.4)\n",
    "    pdf.savefig(bboxes_inches='tight')\n",
    "    plt.close('all')"
   ]
  },
  {
   "cell_type": "code",
   "execution_count": 83,
   "metadata": {
    "collapsed": false
   },
   "outputs": [
    {
     "name": "stdout",
     "output_type": "stream",
     "text": [
      "{\n",
      "  \"stdin_port\": 36120, \n",
      "  \"ip\": \"127.0.0.1\", \n",
      "  \"control_port\": 48150, \n",
      "  \"hb_port\": 43031, \n",
      "  \"signature_scheme\": \"hmac-sha256\", \n",
      "  \"key\": \"06d7fbc4-9d01-4784-9ae4-3630668ae165\", \n",
      "  \"kernel_name\": \"\", \n",
      "  \"shell_port\": 49855, \n",
      "  \"transport\": \"tcp\", \n",
      "  \"iopub_port\": 41769\n",
      "}\n",
      "\n",
      "Paste the above JSON into a file, and connect with:\n",
      "    $> ipython <app> --existing <file>\n",
      "or, if you are local, you can connect with just:\n",
      "    $> ipython <app> --existing /cluster/home/ifiddes/.local/share/jupyter/runtime/kernel-042fc30c-77b5-48eb-9e5e-62a5d0b38eac.json \n",
      "or even just:\n",
      "    $> ipython <app> --existing \n",
      "if this is the most recent IPython session you have started.\n"
     ]
    }
   ],
   "source": [
    "%connect_info"
   ]
  },
  {
   "cell_type": "code",
   "execution_count": null,
   "metadata": {
    "collapsed": true
   },
   "outputs": [],
   "source": []
  }
 ],
 "metadata": {
  "anaconda-cloud": {},
  "kernelspec": {
   "display_name": "Python [Root]",
   "language": "python",
   "name": "Python [Root]"
  },
  "language_info": {
   "codemirror_mode": {
    "name": "ipython",
    "version": 2
   },
   "file_extension": ".py",
   "mimetype": "text/x-python",
   "name": "python",
   "nbconvert_exporter": "python",
   "pygments_lexer": "ipython2",
   "version": "2.7.11"
  }
 },
 "nbformat": 4,
 "nbformat_minor": 1
}
