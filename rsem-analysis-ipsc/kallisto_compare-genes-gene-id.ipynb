{
 "cells": [
  {
   "cell_type": "code",
   "execution_count": 1,
   "metadata": {
    "collapsed": false
   },
   "outputs": [],
   "source": [
    "# load dfs\n",
    "import pandas as pd\n",
    "from cat.plots import *\n",
    "import seaborn as sns\n",
    "from scipy.stats import *\n",
    "from tools.sqlInterface import *\n",
    "base_dir = '/hive/groups/recon/projs/primates/primates_indel_corrected_bionano_cut/consensus_gene_set/'\n",
    "dfs = {'chimp': pd.read_csv(os.path.join(base_dir, 'Clint_Chimp.fixed.filtered.gp_info'), sep='\\t'),\n",
    "      'orangutan': pd.read_csv(os.path.join(base_dir, 'Susie_Orangutan.fixed.filtered.gp_info'), sep='\\t'),\n",
    "      'gorilla': pd.read_csv(os.path.join(base_dir, 'Susie_Gorilla.fixed.filtered.gp_info'), sep='\\t')}\n",
    "\n",
    "base_dir = '/hive/groups/recon/projs/primates/original_primates/redo_annotation_indel/consensus_gene_set/'\n",
    "for g, og in [['panTro4', 'Chimp'], ['ponAbe2', 'Orangutan'], ['gorGor4', 'Gorilla']]:\n",
    "    dfs[g] = pd.read_csv(os.path.join(base_dir, og + '.filtered.gp_info'), sep='\\t')\n",
    "\n",
    "\n",
    "dfs['human'] = load_annotation('/hive/groups/recon/projs/primates/primates_indel_corrected_bionano_cut/databases/Human.db')\n",
    "dfs['human'].columns = ['transcript_id', 'gene_id', 'transcript_name', 'gene_name', 'gene_biotype', 'transcript_biotype']"
   ]
  },
  {
   "cell_type": "code",
   "execution_count": 2,
   "metadata": {
    "collapsed": false
   },
   "outputs": [],
   "source": [
    "# load expression\n",
    "exp_dfs = {}\n",
    "for g in dfs:\n",
    "    df = pd.read_csv('{}_kallisto_output/abundance.tsv'.format(g), header=0, sep='\\t')\n",
    "    df['target_id'] = [x.split('(')[0] for x in df.target_id]\n",
    "    exp_dfs[g] = df\n",
    "for g in ['gorilla_human', 'orangutan_human', 'chimp_human']:\n",
    "    df = pd.read_csv('{}_kallisto_output/abundance.tsv'.format(g), header=0, sep='\\t')\n",
    "    df['target_id'] = [x.split('(')[0] for x in df.target_id]\n",
    "    exp_dfs[g] = df"
   ]
  },
  {
   "cell_type": "code",
   "execution_count": 24,
   "metadata": {
    "collapsed": false
   },
   "outputs": [
    {
     "name": "stdout",
     "output_type": "stream",
     "text": [
      "gorGor4 715365.918296\n",
      "ponAbe2 912589.675316\n",
      "orangutan 930358.716555\n",
      "panTro4 546909.102316\n",
      "chimp 508775.855775\n",
      "gorilla 607275.57229\n",
      "orangutan_human 905687.0035\n",
      "human 570790.558337\n",
      "gorilla_human 584843.975313\n",
      "chimp_human 517688.186924\n"
     ]
    }
   ],
   "source": [
    "# merge dfs\n",
    "merged_dfs = {}\n",
    "for g, exp_df in exp_dfs.iteritems():\n",
    "    if g == 'human':\n",
    "        m = exp_df.merge(dfs[g][['transcript_id', 'gene_id', 'gene_biotype']].drop_duplicates(), left_on='target_id', right_on='transcript_id')\n",
    "        m = m[m.gene_biotype == 'protein_coding']\n",
    "        m = m[['gene_id', 'tpm']]\n",
    "    elif g in ['gorilla_human', 'orangutan_human', 'chimp_human']:\n",
    "        m = exp_df.merge(dfs['human'][['transcript_id', 'gene_id', 'gene_biotype']].drop_duplicates(), left_on='target_id', right_on='transcript_id')\n",
    "        m = m[m.gene_biotype == 'protein_coding']\n",
    "        m = m[['gene_id', 'tpm']]\n",
    "    else:\n",
    "        m = exp_df.merge(dfs[g][['transcript_id', 'source_gene', 'gene_biotype']].drop_duplicates(), left_on='target_id', right_on='transcript_id')\n",
    "        m = m[m.gene_biotype == 'protein_coding']\n",
    "        m = m[['source_gene', 'tpm']]\n",
    "        m.columns = ['gene_id', 'tpm']\n",
    "    m = m.groupby('gene_id').aggregate(sum)\n",
    "    merged_dfs[g] = m.reset_index()\n",
    "    print g, m.tpm.sum()"
   ]
  },
  {
   "cell_type": "code",
   "execution_count": 25,
   "metadata": {
    "collapsed": false
   },
   "outputs": [],
   "source": [
    "# fix names\n",
    "merged_dfs['human'].columns = ['gene_id', 'Human (GENCODE V27)']\n",
    "merged_dfs['chimp'].columns = ['gene_id', 'Clint/Chimpanzee (CAT)']\n",
    "merged_dfs['gorilla'].columns = ['gene_id', 'Susie/Gorilla (CAT)']\n",
    "merged_dfs['orangutan'].columns = ['gene_id', 'Susie/Orangutan (CAT)']\n",
    "merged_dfs['panTro4'].columns = ['gene_id', 'panTro4 (CAT)']\n",
    "merged_dfs['ponAbe2'].columns = ['gene_id', 'ponAbe2 (CAT)']\n",
    "merged_dfs['gorGor4'].columns = ['gene_id', 'gorGor4 (CAT)']\n",
    "merged_dfs['chimp_human'].columns = ['gene_id', 'GRCh38 (GENCODE V27)']\n",
    "merged_dfs['orangutan_human'].columns = ['gene_id', 'GRCh38 (GENCODE V27)']\n",
    "merged_dfs['gorilla_human'].columns = ['gene_id', 'GRCh38 (GENCODE V27)']"
   ]
  },
  {
   "cell_type": "code",
   "execution_count": 26,
   "metadata": {
    "collapsed": false
   },
   "outputs": [],
   "source": [
    "# now we merge and group\n",
    "combined_dfs = {}\n",
    "combined_dfs['chimp'] = merged_dfs['human'].merge(\n",
    "    merged_dfs['chimp'], how='outer', on='gene_id').merge(\n",
    "    merged_dfs['panTro4'], how='outer', on='gene_id').merge(\n",
    "    merged_dfs['chimp_human'], how='outer', on='gene_id')\n",
    "combined_dfs['gorilla'] = merged_dfs['human'].merge(\n",
    "    merged_dfs['gorilla'], how='outer', on='gene_id').merge(\n",
    "    merged_dfs['gorGor4'], how='outer', on='gene_id').merge(\n",
    "    merged_dfs['gorilla_human'], how='outer', on='gene_id')\n",
    "combined_dfs['orangutan'] = merged_dfs['human'].merge(\n",
    "    merged_dfs['orangutan'], how='outer', on='gene_id').merge(\n",
    "    merged_dfs['ponAbe2'], how='outer', on='gene_id').merge(\n",
    "    merged_dfs['orangutan_human'], how='outer', on='gene_id')\n",
    "\n",
    "melted_dfs = {}\n",
    "for g, df in combined_dfs.iteritems():\n",
    "    df = pd.melt(df, id_vars=['gene_id', 'Human (GENCODE V27)'])\n",
    "    df.columns = ['gene_id', 'Human (GENCODE V27)', 'assembly/annotation', 'TPM']\n",
    "    melted_dfs[g] = df.drop_duplicates()"
   ]
  },
  {
   "cell_type": "code",
   "execution_count": 27,
   "metadata": {
    "collapsed": false
   },
   "outputs": [],
   "source": [
    "def plot_fn(pdf, df, cols):\n",
    "    palette = sns.color_palette()\n",
    "    #palette = [palette[3], palette[2], palette[1]]\n",
    "    palette = palette[1:]\n",
    "    with open(pdf, 'w') as outf, PdfPages(outf) as pdf:\n",
    "        g = sns.lmplot(data=df, x='Human (GENCODE V27)', y='TPM', col='assembly/annotation',\n",
    "                      hue='assembly/annotation', fit_reg=False,\n",
    "                      scatter_kws={'marker': '+', 'alpha': 0.5, 's': 3,  'rasterized': True},\n",
    "                      col_order=cols,\n",
    "                      palette=palette)\n",
    "        x = np.linspace(0, 250)\n",
    "        for col, ax in zip(*[cols, g.axes[0]]):\n",
    "            tmp = df[df['assembly/annotation'] == col]\n",
    "            tmp = tmp[(tmp['Human (GENCODE V27)'].notnull()) & (tmp['TPM'].notnull())]\n",
    "            c, p = pearsonr(tmp['Human (GENCODE V27)'], tmp['TPM'])\n",
    "            ax.set_title(ax.get_title() + '\\nPearson r={:.2f} p={:.2f}'.format(c, p))\n",
    "            ax.set_xlim(0, 250)\n",
    "            ax.set_ylim(0, 250)\n",
    "            ax.plot(x, x, 'r--', color='black', alpha=0.7, linewidth=1)\n",
    "        multipage_close(pdf, False)\n",
    "        \n",
    "\n",
    "for g, df in melted_dfs.iteritems():\n",
    "    pdf = g + '.kallisto.genes.gene_id.pdf'\n",
    "    if g == 'chimp':\n",
    "        cols = ['GRCh38 (GENCODE V27)', 'Clint/Chimpanzee (CAT)', 'panTro4 (CAT)']\n",
    "    elif g == 'gorilla':\n",
    "        cols = ['GRCh38 (GENCODE V27)', 'Susie/Gorilla (CAT)', 'gorGor4 (CAT)']\n",
    "    else:\n",
    "        cols = ['GRCh38 (GENCODE V27)', 'Susie/Orangutan (CAT)', 'ponAbe2 (CAT)']\n",
    "    plot_fn(pdf, df, cols)"
   ]
  },
  {
   "cell_type": "code",
   "execution_count": 28,
   "metadata": {
    "collapsed": false
   },
   "outputs": [],
   "source": [
    "num_human = len(merged_dfs['human'][merged_dfs['human']['Human (GENCODE V27)'] > 0.1])\n",
    "num_cat = len(merged_dfs['chimp'][merged_dfs['chimp']['Clint/Chimpanzee (CAT)'] > 0.1])\n",
    "num_old_cat = len(merged_dfs['panTro4'][merged_dfs['panTro4']['panTro4 (CAT)'] > 0.1])\n",
    "num_human_chimp = len(merged_dfs['chimp_human'][merged_dfs['chimp_human']['GRCh38 (GENCODE V27)'] > 0.1])"
   ]
  },
  {
   "cell_type": "code",
   "execution_count": 29,
   "metadata": {
    "collapsed": false
   },
   "outputs": [
    {
     "name": "stdout",
     "output_type": "stream",
     "text": [
      "15278 15242 15787 16107\n"
     ]
    }
   ],
   "source": [
    "print num_cat, num_old_cat, num_human, num_human_chimp"
   ]
  },
  {
   "cell_type": "code",
   "execution_count": 4,
   "metadata": {
    "collapsed": false
   },
   "outputs": [
    {
     "name": "stdout",
     "output_type": "stream",
     "text": [
      "{\n",
      "  \"stdin_port\": 34057, \n",
      "  \"ip\": \"127.0.0.1\", \n",
      "  \"control_port\": 45764, \n",
      "  \"hb_port\": 52767, \n",
      "  \"signature_scheme\": \"hmac-sha256\", \n",
      "  \"key\": \"2dc295bf-4642-410c-9b98-c9fd8b221410\", \n",
      "  \"kernel_name\": \"\", \n",
      "  \"shell_port\": 47207, \n",
      "  \"transport\": \"tcp\", \n",
      "  \"iopub_port\": 60142\n",
      "}\n",
      "\n",
      "Paste the above JSON into a file, and connect with:\n",
      "    $> ipython <app> --existing <file>\n",
      "or, if you are local, you can connect with just:\n",
      "    $> ipython <app> --existing /cluster/home/ifiddes/.local/share/jupyter/runtime/kernel-c14c9830-ff28-4fae-9981-ccc8c1c80a82.json \n",
      "or even just:\n",
      "    $> ipython <app> --existing \n",
      "if this is the most recent IPython session you have started.\n"
     ]
    }
   ],
   "source": [
    "%connect_info"
   ]
  },
  {
   "cell_type": "code",
   "execution_count": null,
   "metadata": {
    "collapsed": true
   },
   "outputs": [],
   "source": []
  }
 ],
 "metadata": {
  "kernelspec": {
   "display_name": "Python [Root]",
   "language": "python",
   "name": "Python [Root]"
  },
  "language_info": {
   "codemirror_mode": {
    "name": "ipython",
    "version": 2
   },
   "file_extension": ".py",
   "mimetype": "text/x-python",
   "name": "python",
   "nbconvert_exporter": "python",
   "pygments_lexer": "ipython2",
   "version": "2.7.11"
  }
 },
 "nbformat": 4,
 "nbformat_minor": 0
}
