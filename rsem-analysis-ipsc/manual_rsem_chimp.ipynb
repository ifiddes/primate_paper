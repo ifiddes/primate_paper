{
 "cells": [
  {
   "cell_type": "code",
   "execution_count": 1,
   "metadata": {
    "collapsed": false
   },
   "outputs": [],
   "source": [
    "import os\n",
    "!mkdir -p chimp\n",
    "os.chdir('chimp')"
   ]
  },
  {
   "cell_type": "code",
   "execution_count": 2,
   "metadata": {
    "collapsed": true
   },
   "outputs": [],
   "source": [
    "from tools.bio import *\n",
    "from tools.transcripts import *\n",
    "from tools.sqlInterface import *\n",
    "from tools.gff3 import *\n",
    "from tools.misc import *\n",
    "from collections import *\n",
    "from cat.plots import *"
   ]
  },
  {
   "cell_type": "code",
   "execution_count": 3,
   "metadata": {
    "collapsed": false
   },
   "outputs": [],
   "source": [
    "clint_expression_1 = pd.read_csv('SRR306823_clint_cat.genes.results', header=0, sep='\\t')\n",
    "ensembl_expression_1 = pd.read_csv('SRR306823_pantro_ensembl.genes.results', header=0, sep='\\t')\n",
    "pantro_expression_1 = pd.read_csv('SRR306823_pantro_cat.genes.results', header=0, sep='\\t')\n",
    "human_expression_1 = pd.read_csv('SRR306823_human.genes.results', header=0, sep='\\t')\n",
    "clint_expression_2 = pd.read_csv('SRR306824_clint_cat.genes.results', header=0, sep='\\t')\n",
    "ensembl_expression_2 = pd.read_csv('SRR306824_pantro_ensembl.genes.results', header=0, sep='\\t')\n",
    "pantro_expression_2 = pd.read_csv('SRR306824_pantro_cat.genes.results', header=0, sep='\\t')\n",
    "human_expression_2 = pd.read_csv('SRR306824_human.genes.results', header=0, sep='\\t')"
   ]
  },
  {
   "cell_type": "code",
   "execution_count": 4,
   "metadata": {
    "collapsed": false
   },
   "outputs": [],
   "source": [
    "clint_expression = pd.merge(clint_expression_1[['gene_id', 'TPM']], clint_expression_2[['gene_id', 'TPM']], \n",
    "                            on='gene_id').set_index('gene_id')\n",
    "clint_expression.columns = ['TPM'] * 2\n",
    "clint_expression = clint_expression.groupby(by=clint_expression.columns, axis=1).mean().reset_index()"
   ]
  },
  {
   "cell_type": "code",
   "execution_count": 5,
   "metadata": {
    "collapsed": true
   },
   "outputs": [],
   "source": [
    "human_expression = pd.merge(human_expression_1[['gene_id', 'TPM']], human_expression_2[['gene_id', 'TPM']], \n",
    "                            on='gene_id').set_index('gene_id')\n",
    "human_expression.columns = ['TPM'] * 2\n",
    "human_expression = human_expression.groupby(by=human_expression.columns, axis=1).mean().reset_index()"
   ]
  },
  {
   "cell_type": "code",
   "execution_count": 6,
   "metadata": {
    "collapsed": true
   },
   "outputs": [],
   "source": [
    "ensembl_expression = pd.merge(ensembl_expression_1[['gene_id', 'TPM']], ensembl_expression_2[['gene_id', 'TPM']], \n",
    "                            on='gene_id').set_index('gene_id')\n",
    "ensembl_expression.columns = ['TPM'] * 2\n",
    "ensembl_expression = ensembl_expression.groupby(by=ensembl_expression.columns, axis=1).mean().reset_index()"
   ]
  },
  {
   "cell_type": "code",
   "execution_count": 7,
   "metadata": {
    "collapsed": true
   },
   "outputs": [],
   "source": [
    "pantro_expression = pd.merge(pantro_expression_1[['gene_id', 'TPM']], pantro_expression_2[['gene_id', 'TPM']], \n",
    "                            on='gene_id').set_index('gene_id')\n",
    "pantro_expression.columns = ['TPM'] * 2\n",
    "pantro_expression = pantro_expression.groupby(by=pantro_expression.columns, axis=1).mean().reset_index()"
   ]
  },
  {
   "cell_type": "code",
   "execution_count": 8,
   "metadata": {
    "collapsed": false
   },
   "outputs": [],
   "source": [
    "# load human annotation\n",
    "ref_df = load_annotation('/hive/groups/recon/projs/primates/susie_indel_corrected/databases/Human.db')\n",
    "\n",
    "# load ensembl annotations\n",
    "lines = [x.split('\\t') for x in open('/hive/groups/recon/projs/primates/compare_clint_expression/pantro_ensembl/Pan_troglodytes.CHIMP2.1.4.88.gtf') if not x.startswith('#')]\n",
    "ensembl_map = {}\n",
    "for l in lines:\n",
    "    x = parse_gtf_attr_line(l[-1])\n",
    "    try:\n",
    "        ensembl_map[x['gene_id']] = x['gene_name']\n",
    "    except KeyError:\n",
    "        continue\n",
    "ensembl_map = pd.DataFrame(ensembl_map.items(), columns=['gene_id', 'gene_name'])\n",
    "\n",
    "# load name maps for clint, panTro\n",
    "clint_map = pd.read_csv('/hive/groups/recon/projs/primates/susie_indel_corrected/consensus_gene_set/Clint_Chimp.gp_info',\n",
    "                       sep='\\t', header=0)\n",
    "pantro_map = pd.read_csv('/hive/groups/recon/projs/primates/original_primates/annotation_full_primates/consensus_gene_set/Chimp.gp_info',\n",
    "                         sep='\\t', header=0)"
   ]
  },
  {
   "cell_type": "code",
   "execution_count": 9,
   "metadata": {
    "collapsed": true
   },
   "outputs": [],
   "source": [
    "# add names to clint\n",
    "clint = pd.merge(clint_expression, clint_map[['gene_id', 'source_gene_common_name']], \n",
    "                 on='gene_id')[['TPM', 'source_gene_common_name']]\n",
    "clint.columns = ['Clint/Chimp (CAT)', 'gene_name']\n",
    "clint = clint.drop_duplicates()\n",
    "clint = clint.groupby('gene_name').aggregate(sum).reset_index()"
   ]
  },
  {
   "cell_type": "code",
   "execution_count": 10,
   "metadata": {
    "collapsed": true
   },
   "outputs": [],
   "source": [
    "# add names to ensembl\n",
    "ensembl = pd.merge(ensembl_expression, ensembl_map, on='gene_id')[['TPM', 'gene_name']]\n",
    "ensembl = ensembl.drop_duplicates()\n",
    "ensembl = ensembl.groupby('gene_name').aggregate(sum).reset_index()\n",
    "ensembl.columns = ['gene_name', 'panTro2.14 (Ensembl V87)']"
   ]
  },
  {
   "cell_type": "code",
   "execution_count": 11,
   "metadata": {
    "collapsed": true
   },
   "outputs": [],
   "source": [
    "# add names to pantro_cat\n",
    "pantro = pd.merge(pantro_expression, pantro_map[['gene_id', 'source_gene_common_name']], \n",
    "                 on='gene_id')[['TPM', 'source_gene_common_name']]\n",
    "pantro.columns = ['panTro2.14 (CAT)', 'gene_name']\n",
    "pantro = pantro.drop_duplicates()\n",
    "pantro = pantro.groupby('gene_name').aggregate(sum).reset_index()"
   ]
  },
  {
   "cell_type": "code",
   "execution_count": 12,
   "metadata": {
    "collapsed": false
   },
   "outputs": [],
   "source": [
    "# add names to human\n",
    "ref_map = ref_df[['GeneName', 'GeneId']]\n",
    "ref_map.columns = ['gene_name', 'gene_id']\n",
    "human = pd.merge(human_expression, ref_map[['gene_id', 'gene_name']], \n",
    "                 on='gene_id')[['TPM', 'gene_name']]\n",
    "human.columns = ['Human (GENCODE V24) TPM', 'gene_name']\n",
    "human = human.drop_duplicates()\n",
    "human = human.groupby('gene_name').aggregate(sum).reset_index()"
   ]
  },
  {
   "cell_type": "code",
   "execution_count": 13,
   "metadata": {
    "collapsed": true
   },
   "outputs": [],
   "source": [
    "# now combine everything, retaining all genes found in human\n",
    "combined = pd.merge(human, pantro, how='outer', on='gene_name').merge(ensembl, how='outer', on='gene_name').merge(clint, how='outer', on='gene_name')\n",
    "df = pd.melt(combined, id_vars=['gene_name', 'Human (GENCODE V24) TPM'])\n",
    "df.columns = ['gene_name', 'Human (GENCODE V24) TPM', 'assembly/annotation', 'TPM']"
   ]
  },
  {
   "cell_type": "code",
   "execution_count": 14,
   "metadata": {
    "collapsed": true
   },
   "outputs": [],
   "source": [
    "# write to disk for other analysis\n",
    "combined_df = pd.merge(clint, ensembl, on='gene_name', how='outer')\n",
    "combined_df.to_csv('../clint_ensembl.tsv', sep='\\t')"
   ]
  },
  {
   "cell_type": "code",
   "execution_count": 19,
   "metadata": {
    "collapsed": false
   },
   "outputs": [],
   "source": [
    "num_human = len(human[human['Human (GENCODE V24) TPM'] != 0])\n",
    "num_clint = len(clint[clint['Clint/Chimp (CAT)'] != 0])\n",
    "num_pantro = len(pantro[pantro['panTro2.14 (CAT)'] != 0])\n",
    "num_ensembl = len(ensembl[ensembl['panTro2.14 (Ensembl V87)'] != 0])\n",
    "from scipy.stats import *\n",
    "cols = ['Clint/Chimp (CAT)', 'panTro2.14 (CAT)', 'panTro2.14 (Ensembl V87)']\n",
    "palette = sns.color_palette()\n",
    "palette = [palette[3], palette[2], palette[1]]\n",
    "with open('chimp_full_expression.pdf', 'w') as outf, PdfPages(outf) as pdf:\n",
    "    g = sns.lmplot(data=df, x='Human (GENCODE V24) TPM', y='TPM', col='assembly/annotation',\n",
    "                  hue='assembly/annotation', fit_reg=False,\n",
    "                  scatter_kws={'marker': '+', 'alpha': 0.5, 's': 3,  'rasterized': True},\n",
    "                  col_order=cols,\n",
    "                  palette=palette)\n",
    "    x = np.linspace(0, 250)\n",
    "    for col, ax in zip(*[cols, g.axes[0]]):\n",
    "        tmp = df[df['assembly/annotation'] == col]\n",
    "        tmp = tmp[(tmp['Human (GENCODE V24) TPM'].notnull()) & (tmp['TPM'].notnull())]\n",
    "        c, p = pearsonr(tmp['Human (GENCODE V24) TPM'], tmp['TPM'])\n",
    "        ax.set_title(ax.get_title() + '\\nPearson r={:.2f} p={:.2f}'.format(c, p))\n",
    "        ax.set_xlim(0, 250)\n",
    "        ax.set_ylim(0, 250)\n",
    "        ax.plot(x, x, 'r--', color='black', alpha=0.7, linewidth=1)\n",
    "    multipage_close(pdf, False)\n",
    "    g = sns.barplot(x=['Human (GENCODE V24)'] + cols,\n",
    "               y=[num_human, num_clint, num_pantro, num_ensembl])\n",
    "    g.set_title('Number of genes found in RNA-seq')\n",
    "    sns.despine()\n",
    "    plt.xticks(rotation=70)\n",
    "    plt.title('Number of genes with non-zero expression')\n",
    "    multipage_close(pdf, False)"
   ]
  },
  {
   "cell_type": "code",
   "execution_count": 20,
   "metadata": {
    "collapsed": false
   },
   "outputs": [],
   "source": [
    "# coding only\n",
    "coding_genes = set(ref_df[ref_df.GeneBiotype == 'protein_coding'].GeneName)\n",
    "coding_df = df[df.gene_name.isin(coding_genes)]\n",
    "\n",
    "num_human_coding = len(human[(human['Human (GENCODE V24) TPM'] != 0) & (human.gene_name.isin(coding_genes))])\n",
    "num_clint_coding = len(clint[(clint['Clint/Chimp (CAT)'] != 0) & (clint.gene_name.isin(coding_genes))])\n",
    "num_pantro_coding = len(pantro[(pantro['panTro2.14 (CAT)'] != 0) & (pantro.gene_name.isin(coding_genes))])\n",
    "num_ensembl_coding = len(ensembl[(ensembl['panTro2.14 (Ensembl V87)'] != 0) & (ensembl.gene_name.isin(coding_genes))])\n",
    "\n",
    "with open('chimp_coding_expression.pdf', 'w') as outf, PdfPages(outf) as pdf:\n",
    "    g = sns.lmplot(data=coding_df, x='Human (GENCODE V24) TPM', y='TPM', col='assembly/annotation',\n",
    "                  hue='assembly/annotation', ci=None, fit_reg=False,\n",
    "                  scatter_kws={'marker': '+', 'alpha': 0.5, 's': 3, 'rasterized': True},\n",
    "                  col_order=cols,\n",
    "                  palette=palette)\n",
    "    x = np.linspace(0, 250)\n",
    "    for col, ax in zip(*[cols, g.axes[0]]):\n",
    "        tmp = df[df['assembly/annotation'] == col]\n",
    "        tmp = tmp[(tmp['Human (GENCODE V24) TPM'].notnull()) & (tmp['TPM'].notnull())]\n",
    "        c, p = pearsonr(tmp['Human (GENCODE V24) TPM'], tmp['TPM'])\n",
    "        ax.set_title(ax.get_title() + '\\nPearson r={:.2f} p={:.2f}'.format(c, p))\n",
    "        ax.set_xlim(0, 250)\n",
    "        ax.set_ylim(0, 250)\n",
    "        ax.plot(x, x, 'r--', color='black', alpha=0.7, linewidth=1)\n",
    "    multipage_close(pdf, True)\n",
    "    fig, ax = plt.subplots(figsize=(3,4.5))\n",
    "    g = sns.barplot(x=['Human (GENCODE V24)'] + cols,\n",
    "               y=[num_human_coding, num_clint_coding, num_pantro_coding, num_ensembl_coding], ax=ax)\n",
    "    sns.despine()\n",
    "    plt.xticks(rotation=90)\n",
    "    plt.title('Number of coding genes with non-zero expression')\n",
    "    multipage_close(pdf, True)"
   ]
  },
  {
   "cell_type": "code",
   "execution_count": 21,
   "metadata": {
    "collapsed": true
   },
   "outputs": [],
   "source": [
    "# now we perform the cross-species comparison\n",
    "human1 = pd.read_csv('../human/SRR306854_human.genes.results', header=0, sep='\\t')\n",
    "human2 = pd.read_csv('../human/SRR306855_human.genes.results', header=0, sep='\\t')\n",
    "human3 = pd.read_csv('../human/SRR306856_human.genes.results', header=0, sep='\\t')\n",
    "\n",
    "human_human_expression = pd.merge(human1[['gene_id', 'TPM']], human2[['gene_id', 'TPM']], on='gene_id')\n",
    "human_human_expression = pd.merge(human_human_expression, human3[['gene_id', 'TPM']], on='gene_id')\n",
    "human_human_expression = human_human_expression.set_index('gene_id')\n",
    "human_human_expression.columns = ['TPM'] * 3\n",
    "human_human_expression = human_human_expression.groupby(by=human_human_expression.columns, axis=1).mean().reset_index()\n",
    "\n",
    "human_human = pd.merge(human_human_expression, ref_map[['gene_id', 'gene_name']], \n",
    "                 on='gene_id')[['gene_name', 'TPM']]\n",
    "human_human = human_human.drop_duplicates()\n",
    "human_human.columns = ['gene_name', 'Human (GENCODE V24) TPM']"
   ]
  },
  {
   "cell_type": "code",
   "execution_count": 22,
   "metadata": {
    "collapsed": false
   },
   "outputs": [],
   "source": [
    "# now combine everything, retaining all genes found in human\n",
    "combined_human = pd.merge(human_human, pantro, how='outer', on='gene_name').merge(ensembl, how='outer', on='gene_name').merge(clint, how='outer', on='gene_name')\n",
    "human_df = pd.melt(combined_human, id_vars=['gene_name', 'Human (GENCODE V24) TPM'])\n",
    "human_df.columns = ['gene_name', 'Human (GENCODE V24) TPM', 'assembly/annotation', 'TPM']"
   ]
  },
  {
   "cell_type": "code",
   "execution_count": 23,
   "metadata": {
    "collapsed": false
   },
   "outputs": [],
   "source": [
    "coding_genes = set(ref_df[ref_df.GeneBiotype == 'protein_coding'].GeneName)\n",
    "coding_df = df[df.gene_name.isin(coding_genes)]\n",
    "\n",
    "with open('chimp_expression_cross.pdf', 'w') as outf, PdfPages(outf) as pdf:\n",
    "    cols = ['Clint/Chimp (CAT)', 'panTro2.14 (CAT)', 'panTro2.14 (Ensembl V87)']\n",
    "    human_coding_df = human_df[human_df.gene_name.isin(coding_genes)]\n",
    "    g = sns.lmplot(data=human_coding_df, x='Human (GENCODE V24) TPM', y='TPM', col='assembly/annotation',\n",
    "                  hue='assembly/annotation', ci=None, fit_reg=False, col_order=cols,\n",
    "                  scatter_kws={'marker': '+', 'alpha': 0.5, 's': 3, 'rasterized': True},\n",
    "                  palette=palette)\n",
    "    x = np.linspace(0, 250)\n",
    "    for col, ax in zip(*[cols, g.axes[0]]):\n",
    "        tmp = human_coding_df[human_coding_df['assembly/annotation'] == col]\n",
    "        tmp = tmp[(tmp['Human (GENCODE V24) TPM'].notnull()) & (tmp['TPM'].notnull())]\n",
    "        c, p = pearsonr(tmp['Human (GENCODE V24) TPM'], tmp['TPM'])\n",
    "        ax.set_title(ax.get_title() + '\\nPearson r={:.2f} p={:.2f}'.format(c, p))\n",
    "        ax.set_xlim(0, 250)\n",
    "        ax.set_ylim(0, 250)\n",
    "        ax.plot(x, x, 'r--', color='black', alpha=0.7, linewidth=1)\n",
    "    multipage_close(pdf, False)\n",
    "    num_human_coding = len(human[(human['Human (GENCODE V24) TPM'] != 0) & (human.gene_name.isin(coding_genes))])\n",
    "    num_clint_coding = len(clint[(clint['Clint/Chimp (CAT)'] != 0) & (clint.gene_name.isin(coding_genes))])\n",
    "    num_pantro_coding = len(pantro[(pantro['panTro2.14 (CAT)'] != 0) & (pantro.gene_name.isin(coding_genes))])\n",
    "    num_ensembl_coding = len(ensembl[(ensembl['panTro2.14 (Ensembl V87)'] != 0) & (ensembl.gene_name.isin(coding_genes))])\n",
    "\n",
    "    fig, ax = plt.subplots(figsize=(3,4.5))\n",
    "    g = sns.barplot(x=['Human (GENCODE V24)'] + cols,\n",
    "               y=[num_human_coding, num_clint_coding, num_pantro_coding, num_ensembl_coding], ax=ax)\n",
    "    sns.despine()\n",
    "    plt.xticks(rotation=90)\n",
    "    plt.title('Number of coding genes with non-zero expression')\n",
    "    multipage_close(pdf, False)"
   ]
  },
  {
   "cell_type": "code",
   "execution_count": null,
   "metadata": {
    "collapsed": true
   },
   "outputs": [],
   "source": []
  },
  {
   "cell_type": "code",
   "execution_count": null,
   "metadata": {
    "collapsed": true
   },
   "outputs": [],
   "source": []
  }
 ],
 "metadata": {
  "kernelspec": {
   "display_name": "Python [Root]",
   "language": "python",
   "name": "Python [Root]"
  },
  "language_info": {
   "codemirror_mode": {
    "name": "ipython",
    "version": 2
   },
   "file_extension": ".py",
   "mimetype": "text/x-python",
   "name": "python",
   "nbconvert_exporter": "python",
   "pygments_lexer": "ipython2",
   "version": "2.7.11"
  }
 },
 "nbformat": 4,
 "nbformat_minor": 0
}
