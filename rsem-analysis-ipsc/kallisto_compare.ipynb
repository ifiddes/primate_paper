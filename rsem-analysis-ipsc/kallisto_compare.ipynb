{
 "cells": [
  {
   "cell_type": "code",
   "execution_count": 1,
   "metadata": {
    "collapsed": false
   },
   "outputs": [],
   "source": [
    "## construct references\n",
    "annotations = {'human': '/hive/groups/recon/projs/primates/primates_indel_corrected_bionano_cut/reference/gencode.v27.annotation.no_PAR.gp',\n",
    "              'orangutan': '/hive/groups/recon/projs/primates/primates_indel_corrected_bionano_cut/consensus_gene_set/Susie_Orangutan.filtered.gp',\n",
    "              'chimp': '/hive/groups/recon/projs/primates/primates_indel_corrected_bionano_cut/consensus_gene_set/Clint_Chimp.filtered.gp',\n",
    "              'gorilla': '/hive/groups/recon/projs/primates/primates_indel_corrected_bionano_cut/consensus_gene_set/Susie_Gorilla.filtered.gp',\n",
    "              'ponAbe2': '/hive/groups/recon/projs/primates/original_primates/redo_annotation_indel/consensus_gene_set/Orangutan.filtered.gp',\n",
    "              'panTro4': '/hive/groups/recon/projs/primates/original_primates/redo_annotation_indel/consensus_gene_set/Chimp.filtered.gp',\n",
    "              'gorGor4': '/hive/groups/recon/projs/primates/original_primates/redo_annotation_indel/consensus_gene_set/Gorilla.filtered.gp'}\n",
    "\n",
    "fastas = {'human': '/hive/groups/recon/projs/primates/primates_indel_corrected_bionano_cut/genome_files/Human.fa',\n",
    "         'orangutan': '/hive/groups/recon/projs/primates/primates_indel_corrected_bionano_cut/genome_files/Susie_Orangutan.fa',\n",
    "         'chimp': '/hive/groups/recon/projs/primates/primates_indel_corrected_bionano_cut/genome_files/Clint_Chimp.fa',\n",
    "         'gorilla': '/hive/groups/recon/projs/primates/primates_indel_corrected_bionano_cut/genome_files/Susie_Gorilla.fa',\n",
    "         'ponAbe2': '/hive/groups/recon/projs/primates/original_primates/redo_annotation_indel/genome_files/Orangutan.fa',\n",
    "         'panTro4': '/hive/groups/recon/projs/primates/original_primates/redo_annotation_indel/genome_files/Chimp.fa',\n",
    "         'gorGor4': '/hive/groups/recon/projs/primates/original_primates/redo_annotation_indel/genome_files/Gorilla.fa'}\n",
    "from tools.fileOps import *\n",
    "base_cmd = 'kallisto index -i {0}.kallisto {1}\\n'\n",
    "with open('kallisto_cmds.txt', 'w') as outf:\n",
    "    for g, a in annotations.iteritems():\n",
    "        f = fastas[g]\n",
    "        tx_fa = g + '.transcripts.fa'\n",
    "        outf.write(base_cmd.format(g, tx_fa))\n",
    "        with TemporaryFilePath() as bed:\n",
    "            !genePredToBed {a} {bed}\n",
    "            !fastaFromBed -fi {f} -fo {tx_fa} -bed {bed} -name -split -s"
   ]
  },
  {
   "cell_type": "code",
   "execution_count": null,
   "metadata": {
    "collapsed": false
   },
   "outputs": [],
   "source": [
    "# add references for ensembl\n",
    "from glob import glob\n",
    "with open('kallisto_cmds.txt', 'a') as outf:\n",
    "    for ref in ['pantro_ensembl', 'gorgor3_ensembl', 'ponabe_ensembl']:\n",
    "        gtf = glob(ref + '/*gtf')\n",
    "        assert len(gtf) == 1\n",
    "        gtf = gtf[0]\n",
    "        tx_fa = ref + '.transcripts.fa'\n",
    "        if ref == 'gorgor3_ensembl':\n",
    "            f = 'gorgor3_ensembl/Gorilla_gorilla.gorGor3.1.dna_sm.toplevel.fa'\n",
    "        elif ref == 'pantro_ensembl': \n",
    "            f = 'pantro_ensembl/Pan_troglodytes.CHIMP2.1.4.dna_sm.toplevel.fa'\n",
    "        else:\n",
    "            f = fastas['ponAbe2']\n",
    "        with TemporaryFilePath() as bed:\n",
    "            !gtfToGenePred {gtf} /dev/stdout | genePredToBed /dev/stdin {bed}\n",
    "            !fastaFromBed -fi {f} -fo {tx_fa} -bed {bed} -name -split -s\n",
    "        outf.write(base_cmd.format(ref, tx_fa))"
   ]
  },
  {
   "cell_type": "code",
   "execution_count": 4,
   "metadata": {
    "collapsed": false
   },
   "outputs": [
    {
     "name": "stdout",
     "output_type": "stream",
     "text": [
      "Process is interrupted.\n"
     ]
    }
   ],
   "source": [
    "%%bash\n",
    "cmd=\"cd ${PWD} && para make -cpu=1 -ram=32g kallisto_cmds.txt\"\n",
    "ssh ku $cmd"
   ]
  },
  {
   "cell_type": "code",
   "execution_count": 52,
   "metadata": {
    "collapsed": false
   },
   "outputs": [],
   "source": [
    "import os\n",
    "rnaseq_dir = '/hive/groups/recon/projs/primates/more_rnaseq_data/iPSC-data'\n",
    "base_cmd = 'kallisto quant -t 8 -i {0}.kallisto {1} {2} -o {0}_kallisto_output\\n'\n",
    "with open('kallisto_cmds.txt', 'w') as outf:\n",
    "    for g in ['human', 'orangutan', 'chimp', 'gorilla']:\n",
    "        fwd = os.path.join(rnaseq_dir, g + '.fwd.fq')\n",
    "        rev = os.path.join(rnaseq_dir, g + '.rev.fq')\n",
    "        assert os.path.exists(fwd)\n",
    "        assert os.path.exists(rev)\n",
    "        outf.write(base_cmd.format(g, fwd, rev))\n",
    "    # add in the original genome CAT sets\n",
    "    for g, ref in [['chimp', 'panTro4'], ['gorilla', 'gorGor4'], ['orangutan', 'ponAbe2']]:\n",
    "        fwd = os.path.join(rnaseq_dir, g + '.fwd.fq')\n",
    "        rev = os.path.join(rnaseq_dir, g + '.rev.fq')\n",
    "        assert os.path.exists(fwd)\n",
    "        assert os.path.exists(rev)\n",
    "        outf.write(base_cmd.format(ref, fwd, rev))\n",
    "    # add in the ensembl sets\n",
    "    for g, ref in [['chimp', 'pantro_ensembl'], ['gorilla', 'gorgor3_ensembl'], ['orangutan', 'ponabe_ensembl']]:\n",
    "        fwd = os.path.join(rnaseq_dir, g + '.fwd.fq')\n",
    "        rev = os.path.join(rnaseq_dir, g + '.rev.fq')\n",
    "        assert os.path.exists(fwd)\n",
    "        assert os.path.exists(rev)\n",
    "        outf.write(base_cmd.format(ref, fwd, rev))"
   ]
  },
  {
   "cell_type": "code",
   "execution_count": 6,
   "metadata": {
    "collapsed": false
   },
   "outputs": [
    {
     "name": "stdout",
     "output_type": "stream",
     "text": [
      "Process is interrupted.\n"
     ]
    }
   ],
   "source": [
    "%%bash\n",
    "cmd=\"cd ${PWD} && para make -cpu=32 -ram=256g kallisto_cmds.txt\"\n",
    "ssh ku $cmd"
   ]
  },
  {
   "cell_type": "code",
   "execution_count": 53,
   "metadata": {
    "collapsed": true
   },
   "outputs": [],
   "source": [
    "# add in a comparison of each species-specific to human\n",
    "import os\n",
    "rnaseq_dir = '/hive/groups/recon/projs/primates/more_rnaseq_data/iPSC-data'\n",
    "base_cmd = 'kallisto quant -t 8 -i human.kallisto {1} {2} -o {0}_human_kallisto_output\\n'\n",
    "with open('kallisto_human_cmds.txt', 'w') as outf:\n",
    "    for g in ['orangutan', 'chimp', 'gorilla']:\n",
    "        fwd = os.path.join(rnaseq_dir, g + '.fwd.fq')\n",
    "        rev = os.path.join(rnaseq_dir, g + '.rev.fq')\n",
    "        assert os.path.exists(fwd)\n",
    "        assert os.path.exists(rev)\n",
    "        outf.write(base_cmd.format(g, fwd, rev))"
   ]
  },
  {
   "cell_type": "code",
   "execution_count": null,
   "metadata": {
    "collapsed": true
   },
   "outputs": [],
   "source": [
    "%%bash\n",
    "cmd=\"cd ${PWD} && para make -cpu=32 -ram=256g kallisto_human_cmds.txt\"\n",
    "ssh ku $cmd"
   ]
  },
  {
   "cell_type": "code",
   "execution_count": 2,
   "metadata": {
    "collapsed": false
   },
   "outputs": [],
   "source": [
    "# load dfs\n",
    "import pandas as pd\n",
    "\n",
    "base_dir = '/hive/groups/recon/projs/primates/primates_indel_corrected_bionano_cut/consensus_gene_set/'\n",
    "dfs = {'chimp': pd.read_csv(os.path.join(base_dir, 'Clint_Chimp.fixed.filtered.gp_info'), sep='\\t'),\n",
    "      'orangutan': pd.read_csv(os.path.join(base_dir, 'Susie_Orangutan.fixed.filtered.gp_info'), sep='\\t'),\n",
    "      'gorilla': pd.read_csv(os.path.join(base_dir, 'Susie_Gorilla.fixed.filtered.gp_info'), sep='\\t')}\n",
    "\n",
    "base_dir = '/hive/groups/recon/projs/primates/original_primates/redo_annotation_indel/consensus_gene_set/'\n",
    "for g, og in [['panTro4', 'Chimp'], ['ponAbe2', 'Orangutan'], ['gorGor4', 'Gorilla']]:\n",
    "    dfs[g] = pd.read_csv(os.path.join(base_dir, og + '.filtered.gp_info'), sep='\\t')\n",
    "\n",
    "from tools.sqlInterface import *\n",
    "dfs['human'] = load_annotation('/hive/groups/recon/projs/primates/primates_indel_corrected_bionano_cut/databases/Human.db')\n",
    "dfs['human'].columns = ['transcript_id', 'gene_id', 'transcript_name', 'gene_name', 'gene_biotype', 'transcript_biotype']"
   ]
  },
  {
   "cell_type": "code",
   "execution_count": 20,
   "metadata": {
    "collapsed": false
   },
   "outputs": [],
   "source": [
    "# load ensembl annotations\n",
    "from tools.misc import *\n",
    "from glob import glob\n",
    "def load_map(gtf):\n",
    "    ensembl_map = {}\n",
    "    biotype_map = {}\n",
    "    for l in open(gtf):\n",
    "        l = l.rstrip().split('\\t')\n",
    "        x = parse_gtf_attr_line(l[-1])\n",
    "        try:\n",
    "            ensembl_map[x['transcript_id']] = x['gene_name']\n",
    "        except KeyError:\n",
    "            continue\n",
    "        try:\n",
    "            biotype_map[x['transcript_id']] = x['gene_biotype']\n",
    "        except KeyError:\n",
    "            continue\n",
    "    ensembl_map = pd.DataFrame(ensembl_map.items(), columns = ['transcript_id', 'gene_name'])\n",
    "    biotype_map = pd.DataFrame(biotype_map.items(), columns = ['transcript_id', 'gene_biotype'])\n",
    "    m = ensembl_map.merge(biotype_map, on='transcript_id')\n",
    "    return m\n",
    "\n",
    "    \n",
    "for ref in ['pantro_ensembl', 'gorgor3_ensembl', 'ponabe_ensembl']:\n",
    "    gtf = glob(ref + '/*gtf')\n",
    "    assert len(gtf) == 1\n",
    "    gtf = gtf[0]\n",
    "    df = load_map(gtf)\n",
    "    dfs[ref] = df"
   ]
  },
  {
   "cell_type": "code",
   "execution_count": 54,
   "metadata": {
    "collapsed": false
   },
   "outputs": [],
   "source": [
    "# load expression\n",
    "exp_dfs = {}\n",
    "for g in dfs:\n",
    "    df = pd.read_csv('{}_kallisto_output/abundance.tsv'.format(g), header=0, sep='\\t')\n",
    "    df['target_id'] = [x.split('(')[0] for x in df.target_id]\n",
    "    exp_dfs[g] = df\n",
    "for g in ['gorilla_human', 'orangutan_human', 'chimp_human']:\n",
    "    df = pd.read_csv('{}_kallisto_output/abundance.tsv'.format(g), header=0, sep='\\t')\n",
    "    df['target_id'] = [x.split('(')[0] for x in df.target_id]\n",
    "    exp_dfs[g] = df"
   ]
  },
  {
   "cell_type": "code",
   "execution_count": 75,
   "metadata": {
    "collapsed": false
   },
   "outputs": [
    {
     "name": "stdout",
     "output_type": "stream",
     "text": [
      "gorGor4 715365.918296\n",
      "ponAbe2 912589.675316\n",
      "human 570790.558337\n",
      "gorilla_human 584843.975313\n",
      "panTro4 546909.102316\n",
      "chimp 508775.855775\n",
      "ponabe_ensembl 661078.184878\n",
      "gorilla 607275.57229\n",
      "orangutan_human 905687.0035\n",
      "orangutan 930358.716555\n",
      "gorgor3_ensembl 100309.753879\n",
      "pantro_ensembl 378186.189785\n",
      "chimp_human 517688.186924\n"
     ]
    }
   ],
   "source": [
    "# merge dfs\n",
    "merged_dfs = {}\n",
    "for g, exp_df in exp_dfs.iteritems():\n",
    "    if g == 'human' or 'ensembl' in g:\n",
    "        m = exp_df.merge(dfs[g][['transcript_id', 'gene_name', 'gene_biotype']].drop_duplicates(), left_on='target_id', right_on='transcript_id')\n",
    "        m = m[m.gene_biotype == 'protein_coding']\n",
    "        m = m[['gene_name', 'tpm']]\n",
    "    elif g in ['gorilla_human', 'orangutan_human', 'chimp_human']:\n",
    "        m = exp_df.merge(dfs['human'][['transcript_id', 'gene_name', 'gene_biotype']].drop_duplicates(), left_on='target_id', right_on='transcript_id')\n",
    "        m = m[m.gene_biotype == 'protein_coding']\n",
    "        m = m[['gene_name', 'tpm']]\n",
    "    else:\n",
    "        m = exp_df.merge(dfs[g][['transcript_id', 'source_gene_common_name', 'gene_biotype']].drop_duplicates(), left_on='target_id', right_on='transcript_id')\n",
    "        m = m[m.gene_biotype == 'protein_coding']\n",
    "        m = m[['source_gene_common_name', 'tpm']]\n",
    "        m.columns = ['gene_name', 'tpm']\n",
    "    m = m.groupby('gene_name').aggregate(sum)\n",
    "    merged_dfs[g] = m.reset_index()\n",
    "    print g, m.tpm.sum()"
   ]
  },
  {
   "cell_type": "code",
   "execution_count": 76,
   "metadata": {
    "collapsed": true
   },
   "outputs": [],
   "source": [
    "# fix names\n",
    "merged_dfs['human'].columns = ['gene_name', 'Human (GENCODE V27)']\n",
    "merged_dfs['chimp'].columns = ['gene_name', 'Clint/Chimpanzee (CAT)']\n",
    "merged_dfs['gorilla'].columns = ['gene_name', 'Susie/Gorilla (CAT)']\n",
    "merged_dfs['orangutan'].columns = ['gene_name', 'Susie/Orangutan (CAT)']\n",
    "merged_dfs['pantro_ensembl'].columns = ['gene_name', 'panTro4 (Ensembl V90)']\n",
    "merged_dfs['ponabe_ensembl'].columns = ['gene_name', 'ponAbe2 (Ensembl V90)']\n",
    "merged_dfs['gorgor3_ensembl'].columns = ['gene_name', 'gorGor3 (Ensembl V90)']\n",
    "merged_dfs['panTro4'].columns = ['gene_name', 'panTro4 (CAT)']\n",
    "merged_dfs['ponAbe2'].columns = ['gene_name', 'ponAbe2 (CAT)']\n",
    "merged_dfs['gorGor4'].columns = ['gene_name', 'gorGor4 (CAT)']\n",
    "merged_dfs['chimp_human'].columns = ['gene_name', 'GRCh38 (GENCODE V27)']\n",
    "merged_dfs['orangutan_human'].columns = ['gene_name', 'GRCh38 (GENCODE V27)']\n",
    "merged_dfs['gorilla_human'].columns = ['gene_name', 'GRCh38 (GENCODE V27)']"
   ]
  },
  {
   "cell_type": "code",
   "execution_count": 77,
   "metadata": {
    "collapsed": false
   },
   "outputs": [],
   "source": [
    "# now we merge and group\n",
    "combined_dfs = {}\n",
    "combined_dfs['chimp'] = merged_dfs['human'].merge(\n",
    "    merged_dfs['chimp'], how='outer', on='gene_name').merge(\n",
    "    merged_dfs['panTro4'], how='outer', on='gene_name').merge(\n",
    "    merged_dfs['pantro_ensembl'], how='outer', on='gene_name').merge(\n",
    "    merged_dfs['chimp_human'], how='outer', on='gene_name')\n",
    "combined_dfs['gorilla'] = merged_dfs['human'].merge(\n",
    "    merged_dfs['gorilla'], how='outer', on='gene_name').merge(\n",
    "    merged_dfs['gorGor4'], how='outer', on='gene_name').merge(\n",
    "    merged_dfs['gorgor3_ensembl'], how='outer', on='gene_name').merge(\n",
    "    merged_dfs['gorilla_human'], how='outer', on='gene_name')\n",
    "combined_dfs['orangutan'] = merged_dfs['human'].merge(\n",
    "    merged_dfs['orangutan'], how='outer', on='gene_name').merge(\n",
    "    merged_dfs['ponAbe2'], how='outer', on='gene_name').merge(\n",
    "    merged_dfs['ponabe_ensembl'], how='outer', on='gene_name').merge(\n",
    "    merged_dfs['orangutan_human'], how='outer', on='gene_name')\n",
    "\n",
    "melted_dfs = {}\n",
    "for g, df in combined_dfs.iteritems():\n",
    "    df = pd.melt(df, id_vars=['gene_name', 'Human (GENCODE V27)'])\n",
    "    df.columns = ['gene_name', 'Human (GENCODE V27)', 'assembly/annotation', 'TPM']\n",
    "    melted_dfs[g] = df.drop_duplicates()"
   ]
  },
  {
   "cell_type": "code",
   "execution_count": 78,
   "metadata": {
    "collapsed": false
   },
   "outputs": [],
   "source": [
    "def plot_fn(pdf, df, cols):\n",
    "    palette = sns.color_palette()\n",
    "    #palette = [palette[3], palette[2], palette[1]]\n",
    "    palette = palette[1:]\n",
    "    with open(pdf, 'w') as outf, PdfPages(outf) as pdf:\n",
    "        g = sns.lmplot(data=df, x='Human (GENCODE V27)', y='TPM', col='assembly/annotation',\n",
    "                      hue='assembly/annotation', fit_reg=False,\n",
    "                      scatter_kws={'marker': '+', 'alpha': 0.5, 's': 3,  'rasterized': True},\n",
    "                      col_order=cols,\n",
    "                      palette=palette)\n",
    "        x = np.linspace(0, 250)\n",
    "        for col, ax in zip(*[cols, g.axes[0]]):\n",
    "            tmp = df[df['assembly/annotation'] == col]\n",
    "            tmp = tmp[(tmp['Human (GENCODE V27)'].notnull()) & (tmp['TPM'].notnull())]\n",
    "            c, p = pearsonr(tmp['Human (GENCODE V27)'], tmp['TPM'])\n",
    "            ax.set_title(ax.get_title() + '\\nPearson r={:.2f} p={:.2f}'.format(c, p))\n",
    "            ax.set_xlim(0, 250)\n",
    "            ax.set_ylim(0, 250)\n",
    "            ax.plot(x, x, 'r--', color='black', alpha=0.7, linewidth=1)\n",
    "        multipage_close(pdf, False)\n",
    "        \n",
    "\n",
    "import seaborn as sns\n",
    "from cat.plots import *\n",
    "from scipy.stats import *\n",
    "for g, df in melted_dfs.iteritems():\n",
    "    pdf = g + '.kallisto.pdf'\n",
    "    if g == 'chimp':\n",
    "        cols = ['GRCh38 (GENCODE V27)', 'Clint/Chimpanzee (CAT)', 'panTro4 (CAT)', 'panTro4 (Ensembl V90)']\n",
    "    elif g == 'gorilla':\n",
    "        cols = ['GRCh38 (GENCODE V27)', 'Susie/Gorilla (CAT)', 'gorGor4 (CAT)', 'gorGor3 (Ensembl V90)']\n",
    "    else:\n",
    "        cols = ['GRCh38 (GENCODE V27)', 'Susie/Orangutan (CAT)', 'ponAbe2 (CAT)', 'ponAbe2 (Ensembl V90)']\n",
    "    plot_fn(pdf, df, cols)"
   ]
  },
  {
   "cell_type": "code",
   "execution_count": 79,
   "metadata": {
    "collapsed": false
   },
   "outputs": [],
   "source": [
    "num_human = len(merged_dfs['human'][merged_dfs['human']['Human (GENCODE V27)'] > 0.1])\n",
    "num_cat = len(merged_dfs['chimp'][merged_dfs['chimp']['Clint/Chimpanzee (CAT)'] > 0.1])\n",
    "num_old_cat = len(merged_dfs['panTro4'][merged_dfs['panTro4']['panTro4 (CAT)'] > 0.1])\n",
    "num_ensembl = len(merged_dfs['pantro_ensembl'][merged_dfs['pantro_ensembl']['panTro4 (Ensembl V90)'] > 0.1])\n",
    "num_human_chimp = len(merged_dfs['chimp_human'][merged_dfs['chimp_human']['GRCh38 (GENCODE V27)'] > 0.1])"
   ]
  },
  {
   "cell_type": "code",
   "execution_count": 80,
   "metadata": {
    "collapsed": false
   },
   "outputs": [
    {
     "name": "stdout",
     "output_type": "stream",
     "text": [
      "15277 15242 13463 15776 16098\n"
     ]
    }
   ],
   "source": [
    "print num_cat, num_old_cat, num_ensembl, num_human, num_human_chimp"
   ]
  },
  {
   "cell_type": "code",
   "execution_count": null,
   "metadata": {
    "collapsed": true
   },
   "outputs": [],
   "source": []
  }
 ],
 "metadata": {
  "kernelspec": {
   "display_name": "Python [Root]",
   "language": "python",
   "name": "Python [Root]"
  },
  "language_info": {
   "codemirror_mode": {
    "name": "ipython",
    "version": 2
   },
   "file_extension": ".py",
   "mimetype": "text/x-python",
   "name": "python",
   "nbconvert_exporter": "python",
   "pygments_lexer": "ipython2",
   "version": "2.7.11"
  }
 },
 "nbformat": 4,
 "nbformat_minor": 0
}
