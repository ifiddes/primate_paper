{
 "cells": [
  {
   "cell_type": "code",
   "execution_count": 1,
   "metadata": {
    "collapsed": true
   },
   "outputs": [],
   "source": [
    "from cat.plots import *\n",
    "from cat.plots import _generic_histogram"
   ]
  },
  {
   "cell_type": "code",
   "execution_count": 2,
   "metadata": {
    "collapsed": true
   },
   "outputs": [],
   "source": [
    "consensus_data = OrderedDict([[genome, json.load(open(os.path.join('plot_data', genome, 'consensus.json')))] for genome in ['Clint_Chimp', 'Susie_Gorilla', 'Susie_Orangutan']])"
   ]
  },
  {
   "cell_type": "code",
   "execution_count": 3,
   "metadata": {
    "collapsed": false
   },
   "outputs": [],
   "source": [
    "ordered_genomes = ['Clint_Chimp', 'Susie_Gorilla', 'Susie_Orangutan']\n",
    "ordered_groups = ['transMap', 'transMap+TM', 'transMap+TMR', 'transMap+TM+TMR', 'TM', 'TMR', 'TM+TMR', 'CGP', 'PB',\n",
    "                  'Other']\n",
    "ordered_groups = OrderedDict([[frozenset(x.split('+')), x] for x in ordered_groups])\n",
    "\n",
    "def split_fn(s):\n",
    "    return ordered_groups.get(frozenset(s['Transcript Modes'].replace('aug', '').split(',')), 'Other')\n",
    "\n",
    "modes_df = json_biotype_counter_to_df(consensus_data, 'Transcript Modes')\n",
    "df = modes_df.pivot(index='genome', columns='Transcript Modes').transpose().reset_index()\n",
    "df['Modes'] = df.apply(split_fn, axis=1)\n",
    "df = df[['Modes'] + ordered_genomes]\n",
    "ordered_values = [x for x in ordered_groups.itervalues() if x in set(df['Modes'])]\n",
    "df['Ordered Modes'] = pd.Categorical(df['Modes'], ordered_values, ordered=True)\n",
    "df = df.sort_values('Ordered Modes')\n",
    "df = df[['Ordered Modes'] + ordered_genomes].set_index('Ordered Modes')\n",
    "title_string = 'Transcript modes in protein coding CAT annotation'\n",
    "ylabel = 'Number of transcripts'\n",
    "legend_labels = df.index\n",
    "names = ordered_genomes\n",
    "box_label = 'Transcript mode(s)'"
   ]
  },
  {
   "cell_type": "code",
   "execution_count": 4,
   "metadata": {
    "collapsed": false
   },
   "outputs": [],
   "source": [
    "with open('tx_modes_clean.pdf', 'w') as outf, PdfPages(outf) as pdf:\n",
    "    fig, ax = plt.subplots(figsize=(2, 5))\n",
    "    bars = []\n",
    "    cumulative = np.zeros(len(df.columns))\n",
    "    color_palette = choose_palette(legend_labels)\n",
    "    for i, (_, d) in enumerate(df.iterrows()):\n",
    "        bars.append(ax.bar(np.arange(len(df.columns)), d, bar_width, bottom=cumulative,\n",
    "                           color=color_palette[i], linewidth=0.0))\n",
    "        cumulative += d\n",
    "    fig.legend([x[0] for x in bars[::-1]], legend_labels[::-1], bbox_to_anchor=(1.25, 0.7), frameon=True,\n",
    "               title=box_label)\n",
    "    ax.set_title(title_string)\n",
    "    ax.set_ylabel(ylabel)\n",
    "    set_ticks(names, ax)\n",
    "    ax.xaxis.set_ticks(np.arange(0, len(names)) + bar_width / 2.0)\n",
    "    sns.despine(top=True, right=True)\n",
    "    ax.set_ylim(0, 80000)\n",
    "    multipage_close(pdf, tight_layout=False)\n",
    "    "
   ]
  },
  {
   "cell_type": "code",
   "execution_count": 5,
   "metadata": {
    "collapsed": true
   },
   "outputs": [],
   "source": [
    "df = json_biotype_nested_counter_to_df(consensus_data, 'denovo')\n",
    "# fix column names because json_biotype_nested_counter_to_df makes assumptions\n",
    "df.columns = ['Result', 'Number of transcripts', 'Augustus mode', 'genome']\n",
    "df = df[df['Result'] == 'Novel isoforms']"
   ]
  },
  {
   "cell_type": "code",
   "execution_count": 6,
   "metadata": {
    "collapsed": false
   },
   "outputs": [],
   "source": [
    "with open('denovo_clean.pdf', 'w') as outf, PdfPages(outf) as pdf:\n",
    "    plt.figure(figsize=(1.5, 3))\n",
    "    ax = sns.factorplot(data=df, x='genome', y='Number of transcripts', kind='bar',\n",
    "                                            hue='Augustus mode', row_order=ordered_genomes)\n",
    "    ax.set_xticklabels(rotation=90)\n",
    "    ax.fig.suptitle('Number of transcripts predicted to be novel isoforms')\n",
    "    ax.fig.subplots_adjust(top=0.9)\n",
    "    multipage_close(pdf, tight_layout=False)"
   ]
  },
  {
   "cell_type": "code",
   "execution_count": 3,
   "metadata": {
    "collapsed": true
   },
   "outputs": [],
   "source": [
    "name_map = {u'3prime_overlapping_ncrna': 'ncRNA',\n",
    " u'IG_C_gene': 'other',\n",
    " u'IG_C_pseudogene': 'pseudogene',\n",
    " u'IG_D_gene': 'other',\n",
    " u'IG_J_gene': 'other',\n",
    " u'IG_J_pseudogene': 'pseudogene',\n",
    " u'IG_V_gene': 'other',\n",
    " u'IG_V_pseudogene': 'pseudogene',\n",
    " u'Mt_rRNA': 'other',\n",
    " u'Mt_tRNA': 'other',\n",
    " u'TEC': 'other',\n",
    " u'TR_C_gene': 'other',\n",
    " u'TR_J_gene': 'other',\n",
    " u'TR_J_pseudogene': 'pseudogene',\n",
    " u'TR_V_gene': 'other',\n",
    " u'TR_V_pseudogene': 'pseudogene',\n",
    " u'antisense': 'other',\n",
    " u'bidirectional_promoter_lncrna': 'lncRNA',\n",
    " u'lincRNA': 'lncRNA',\n",
    " u'macro_lncRNA': 'lncRNA',\n",
    " u'miRNA': 'ncRNA',\n",
    " u'misc_RNA': 'ncRNA',\n",
    " u'non_coding': 'ncRNA',\n",
    " u'non_stop_decay': 'other',\n",
    " u'nonsense_mediated_decay': 'other',\n",
    " u'polymorphic_pseudogene': 'pseudogene',\n",
    " u'processed_pseudogene': 'pseudogene',\n",
    " u'processed_transcript': 'other',\n",
    " u'protein_coding': 'protein coding',\n",
    " u'pseudogene': 'pseudogene',\n",
    " u'rRNA': 'other',\n",
    " u'retained_intron': 'other',\n",
    " u'ribozyme': 'ncRNA',\n",
    " u'sRNA': 'ncRNA',\n",
    " u'scaRNA': 'ncRNA',\n",
    " u'sense_intronic': 'other',\n",
    " u'sense_overlapping': 'other',\n",
    " u'snRNA': 'ncRNA',\n",
    " u'snoRNA': 'ncRNA',\n",
    " u'transcribed_processed_pseudogene': 'pseudogene',\n",
    " u'transcribed_unitary_pseudogene': 'pseudogene',\n",
    " u'transcribed_unprocessed_pseudogene': 'pseudogene',\n",
    " u'translated_unprocessed_pseudogene': 'pseudogene',\n",
    " u'unitary_pseudogene': 'pseudogene',\n",
    " u'unprocessed_pseudogene': 'pseudogene',\n",
    " u'vaultRNA': 'ncRNA'}\n",
    "\n",
    "df = json_grouped_biotype_nested_counter_to_df(consensus_data, 'Completeness')"
   ]
  },
  {
   "cell_type": "code",
   "execution_count": 4,
   "metadata": {
    "collapsed": false
   },
   "outputs": [],
   "source": [
    "df['fixed biotype'] = [name_map[x] for x in df.biotype]\n",
    "df = df.groupby(['fixed biotype', 'category', 'genome']).aggregate(sum)\n",
    "df = df.reset_index()\n",
    "df = df[df.category == 'Gene']\n",
    "order = ['protein coding', 'lncRNA', 'ncRNA', 'pseudogene', 'other']\n",
    "df.columns = ['biotype', 'category', 'genome', 'count']\n",
    "df['biotype'] = pd.Categorical(df.biotype, order, ordered=True)\n",
    "df = df.sort_values(['genome', 'biotype'])"
   ]
  },
  {
   "cell_type": "code",
   "execution_count": 5,
   "metadata": {
    "collapsed": true
   },
   "outputs": [],
   "source": [
    "from tools.sqlInterface import *\n",
    "gene_biotype_map = get_gene_biotype_map('databases/Human.db')"
   ]
  },
  {
   "cell_type": "code",
   "execution_count": 14,
   "metadata": {
    "collapsed": false
   },
   "outputs": [],
   "source": [
    "counts = Counter()\n",
    "for gene, biotype in gene_biotype_map.iteritems():\n",
    "    counts[name_map.get(biotype, 'other')] += 1\n",
    "r = []\n",
    "for _, s in df.iterrows():\n",
    "    r.append([s.biotype, s.category, s.genome, 1.0 * s['count'] / counts[s.biotype]])\n",
    "df2 = pd.DataFrame(r, columns=['biotype', 'category', 'genome', 'percent difference'])\n",
    "df2['biotype'] = pd.Categorical(df2['biotype'], order, ordered=True)\n",
    "df2 = df2.sort_values('biotype')"
   ]
  },
  {
   "cell_type": "code",
   "execution_count": 16,
   "metadata": {
    "collapsed": false
   },
   "outputs": [],
   "source": [
    "with open('primate_completeness.pdf', 'w') as outf, PdfPages(outf) as pdf:\n",
    "    plt.figure(figsize=(1.75, 4.5))\n",
    "    g = sns.factorplot(data=df, x='genome', y='count', hue='biotype', kind='bar',\n",
    "                       hue_order=order)\n",
    "    ax = g.axes[0][0]\n",
    "    ax.set_ylim(0, 21000)\n",
    "    ax.set_ylabel('Number of genes')\n",
    "    g.fig.suptitle('Completeness of comparative annotation')\n",
    "    for i, p in enumerate(ax.patches):\n",
    "        ax.text(p.get_x() + 0.02, p.get_height() + 3500,\n",
    "               '{:.1%}'.format(df2.iloc[i]['percent difference']),\n",
    "               size=10, rotation=90)\n",
    "    g.set_xticklabels(rotation=90)\n",
    "    g.fig.subplots_adjust(top=0.85, bottom=0.4)\n",
    "    pdf.savefig(bboxes_inches='tight')\n",
    "    plt.close('all')"
   ]
  },
  {
   "cell_type": "code",
   "execution_count": null,
   "metadata": {
    "collapsed": false
   },
   "outputs": [],
   "source": [
    "iso_txs = tools.sqlInterface.load_isoseq_txs('databases/Clint_Chimp.db')\n",
    "from tools.transcripts import *\n",
    "txs = list(gene_pred_iterator('consensus_gene_set/Clint_Chimp.gp'))\n",
    "clustered = cluster_txs(txs + iso_txs)"
   ]
  },
  {
   "cell_type": "code",
   "execution_count": 19,
   "metadata": {
    "collapsed": false
   },
   "outputs": [],
   "source": [
    "divided_clusters = divide_clusters(clustered, {x.name for x in txs})"
   ]
  },
  {
   "cell_type": "code",
   "execution_count": 26,
   "metadata": {
    "collapsed": false
   },
   "outputs": [],
   "source": [
    "\n",
    "\n",
    "def find_exact_match(iso_intervals, enst_intervals):\n",
    "    \"\"\"\n",
    "    Compares intervals produced by construct_start_stop_intervals to each other to find subset matches.\n",
    "    Used for fuzzy matching of IsoSeq transcripts (iso_intervals) to existing annotations (enst_intervals)\n",
    "    \"\"\"\n",
    "    iso_l, iso_r = iso_intervals\n",
    "    enst_l, enst_r = enst_intervals\n",
    "    # if we have fewer reference junctions than isoseq, we can't have a subset match by definition\n",
    "    if len(iso_l) != len(enst_l):\n",
    "        return False\n",
    "    lm = all([any([il.overlap(el) for el in enst_l]) for il in iso_l])\n",
    "    lr = all([any([ir.overlap(er) for er in enst_r]) for ir in iso_r])\n",
    "    return lm and lr\n",
    "\n",
    "\n",
    "fuzz_distance=8\n",
    "r = collections.defaultdict(list)\n",
    "for cluster_id, (ensts, isos) in divided_clusters.iteritems():\n",
    "    enst_intervals = collections.defaultdict(list)\n",
    "    for tx in ensts:\n",
    "        enst_interval = construct_start_stop_intervals(tx.intron_intervals, fuzz_distance)\n",
    "        enst_intervals[tuple(enst_interval)].append(tx)\n",
    "    for iso in isos:\n",
    "        iso_intervals = construct_start_stop_intervals(iso.intron_intervals, fuzz_distance)\n",
    "        for enst_interval, enst_txs in enst_intervals.iteritems():\n",
    "            m = find_exact_match(iso_intervals, enst_interval)\n",
    "            if m:\n",
    "                r[iso.name].extend(enst_txs)"
   ]
  },
  {
   "cell_type": "code",
   "execution_count": 28,
   "metadata": {
    "collapsed": false
   },
   "outputs": [],
   "source": [
    "validated_ids = set()\n",
    "for tx_list in r.itervalues():\n",
    "    for tx in tx_list:\n",
    "        validated_ids.add(tx.name)"
   ]
  },
  {
   "cell_type": "code",
   "execution_count": null,
   "metadata": {
    "collapsed": true
   },
   "outputs": [],
   "source": []
  }
 ],
 "metadata": {
  "anaconda-cloud": {},
  "kernelspec": {
   "display_name": "Python [Root]",
   "language": "python",
   "name": "Python [Root]"
  },
  "language_info": {
   "codemirror_mode": {
    "name": "ipython",
    "version": 2
   },
   "file_extension": ".py",
   "mimetype": "text/x-python",
   "name": "python",
   "nbconvert_exporter": "python",
   "pygments_lexer": "ipython2",
   "version": "2.7.11"
  }
 },
 "nbformat": 4,
 "nbformat_minor": 1
}
