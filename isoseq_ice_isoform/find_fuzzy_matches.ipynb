{
 "cells": [
  {
   "cell_type": "code",
   "execution_count": 39,
   "metadata": {
    "collapsed": true
   },
   "outputs": [],
   "source": [
    "import shutil\n",
    "import pysam\n",
    "import argparse\n",
    "import os\n",
    "import itertools\n",
    "from glob import glob\n",
    "from collections import *\n",
    "from tools.fileOps import *\n",
    "from tools.procOps import *\n",
    "from tools.intervals import *\n",
    "from tools.transcripts import *\n",
    "from tools.mathOps import *\n",
    "from tools.misc import *\n",
    "from tools.bio import *\n",
    "from tools.toilInterface import *\n",
    "from tools.dataOps import *"
   ]
  },
  {
   "cell_type": "code",
   "execution_count": null,
   "metadata": {
    "collapsed": false
   },
   "outputs": [],
   "source": [
    "# first, we need to run cDNA_cupcake on all of the combinations we are interested in\n",
    "# I did this before for all of the original primates\n",
    "# bringing in those data\n",
    "!mkdir -p tofu_results\n",
    "!ln /hive/groups/recon/projs/primates/susie_indel_corrected/ice_validation/old_assemblies/* tofu_results/"
   ]
  },
  {
   "cell_type": "code",
   "execution_count": 45,
   "metadata": {
    "collapsed": false
   },
   "outputs": [],
   "source": [
    "# now, we need to map the quivered reads to our gmap references, filter out mapped reads, keep as sam\n",
    "read_map = {'Human': 'ice_data/human.all_sizes.quivered_hq.fastq',\n",
    "           'Susie_Gorilla': 'ice_data/gorilla.all_sizes.quivered_hq.fastq',\n",
    "           'Clint_Chimp': 'ice_data/chimp.all_sizes.quivered_hq.fastq',\n",
    "           'Susie_Orangutan': 'ice_data/orangutan.all_sizes.quivered_hq.fastq',\n",
    "           'gorGor4_ensembl': 'ice_data/gorilla.all_sizes.quivered_hq.fastq',\n",
    "           'panTro4_ensembl': 'ice_data/chimp.all_sizes.quivered_hq.fastq'}\n",
    "\n",
    "gmap_references = {'Human': ('gmap_references/Human/', 'Human'),\n",
    "                  'Susie_Gorilla': ('gmap_references/Susie_Gorilla/', 'Susie_Gorilla'),\n",
    "                  'Clint_Chimp': ('gmap_references/Clint_Chimp/', 'clint'),\n",
    "                  'Susie_Orangutan': ('gmap_references/Susie_Orangutan/', 'susie'),\n",
    "                  'gorGor4_ensembl': ('gmap_references/gorGor4_ensembl/', 'gorGor4_ensembl'),\n",
    "                  'panTro4_ensembl': ('gmap_references/panTro4_ensembl/', 'panTro4_ensembl')}\n",
    "\n",
    "for genome, fq in read_map.iteritems():\n",
    "    ref, ref_name = gmap_references[genome]\n",
    "    # map reads\n",
    "    cmd = [['gmap', '-D', ref, '-d', ref_name, '-f', 'samse', '-t', '20', '-n', '0', fq],\n",
    "          ['samtools', 'view', '-F', 4, '-']]\n",
    "    run_proc(cmd, stdout=os.path.join('tofu_results', genome + '.mapped.sam'))"
   ]
  },
  {
   "cell_type": "code",
   "execution_count": 16,
   "metadata": {
    "collapsed": false
   },
   "outputs": [],
   "source": [
    "# need to sort the SAM\n",
    "for genome, fq in read_map.iteritems():\n",
    "    sam = os.path.join('tofu_results', genome + '.mapped.sam')\n",
    "    !sort -S8G -snk3 -k4 {sam} > {sam}.sorted"
   ]
  },
  {
   "cell_type": "code",
   "execution_count": null,
   "metadata": {
    "collapsed": false
   },
   "outputs": [],
   "source": [
    "for genome, fq in read_map.iteritems():\n",
    "    sam = os.path.join('tofu_results', genome + '.mapped.sam.sorted')\n",
    "    out = os.path.join('tofu_results', genome)\n",
    "    cmd = ['python', '/cluster/home/ifiddes/cDNA_Cupcake/cupcake/tofu/collapse_isoforms_by_sam.py',\n",
    "          '--input', os.path.abspath(fq), '--fq', '-s', os.path.abspath(sam), '--dun-merge-5-shorter', '-o', os.path.abspath(out)]\n",
    "    run_proc(cmd)\n",
    "    !gtfToGenePred {out + '.collapsed.gff'} {out + '.collapsed.gp'} -genePredExt"
   ]
  },
  {
   "cell_type": "code",
   "execution_count": 50,
   "metadata": {
    "collapsed": false
   },
   "outputs": [],
   "source": [
    "tx_sets =  [['ponAbe2', 'Ensembl V90', 'tofu_results/ponAbe2.collapsed.gp', 'Pongo_abelii.PPYG2.88.gp'],\n",
    "            ['Susie_Orangutan', 'CAT', 'tofu_results/Susie_Orangutan.collapsed.gp', '/hive/groups/recon/projs/primates/primates_indel_corrected_bionano_cut/consensus_gene_set/Susie_Orangutan.gp'],\n",
    "            ['panTro4', 'Ensembl V91', 'tofu_results/panTro4_ensembl.collapsed.gp', 'Pan_troglodytes.Pan_tro_3.0.91.gp'],\n",
    "            ['Susie_Gorilla', 'CAT', 'tofu_results/Susie_Gorilla.collapsed.gp', '/hive/groups/recon/projs/primates/primates_indel_corrected_bionano_cut/consensus_gene_set/Susie_Gorilla.gp'],\n",
    "            ['Human', 'GENCODE V27', 'tofu_results/Human.collapsed.gp', '/hive/groups/recon/projs/primates/primates_indel_corrected_bionano_cut/reference/gencode.v27.annotation.no_PAR.gp'],\n",
    "            ['panTro4', 'CAT', 'tofu_results/panTro4.collapsed.gp', '/hive/groups/recon/projs/primates/original_primates/redo_annotation_indel/consensus_gene_set/Chimp.gp'],\n",
    "            ['Clint_Chimp', 'CAT', 'tofu_results/Clint_Chimp.collapsed.gp', '/hive/groups/recon/projs/primates/primates_indel_corrected_bionano_cut/consensus_gene_set/Clint_Chimp.gp'],\n",
    "            ['ponAbe2', 'CAT', 'tofu_results/ponAbe2.collapsed.gp', '/hive/groups/recon/projs/primates/original_primates/redo_annotation_indel/consensus_gene_set/Orangutan.gp'],\n",
    "            ['gorGor4', 'CAT', 'tofu_results/gorGor4.collapsed.gp', '/hive/groups/recon/projs/primates/original_primates/redo_annotation_indel/consensus_gene_set/Gorilla.gp'],\n",
    "            ['gorGor4', 'Ensembl V91', 'tofu_results/gorGor4_ensembl.collapsed.gp', 'Gorilla_gorilla.gorGor4.91.gp']]"
   ]
  },
  {
   "cell_type": "code",
   "execution_count": 51,
   "metadata": {
    "collapsed": false
   },
   "outputs": [],
   "source": [
    "data_holder = defaultdict(dict)\n",
    "for genome, annotation, iso_gp, gp in tx_sets:\n",
    "    txs = get_gene_pred_dict(gp)\n",
    "    data_holder[(genome, annotation)]['txs'] = txs\n",
    "    iso_txs = get_gene_pred_dict(iso_gp)\n",
    "    iso_txs = {x: y for x, y in iso_txs.iteritems() if len(y.exon_intervals) > 1}\n",
    "    data_holder[(genome, annotation)]['iso_txs'] = iso_txs\n",
    "    clustered = cluster_txs(txs.values() + iso_txs.values())\n",
    "    data_holder[(genome, annotation)]['clustered'] = clustered\n",
    "    divided_clusters = divide_clusters(clustered, txs.viewkeys())\n",
    "    data_holder[(genome, annotation)]['divided_clusters'] = divided_clusters"
   ]
  },
  {
   "cell_type": "code",
   "execution_count": 55,
   "metadata": {
    "collapsed": false
   },
   "outputs": [
    {
     "name": "stdout",
     "output_type": "stream",
     "text": [
      "gorGor4-CAT: 20,046 ICE isoforms. 12,811 (63.9%) exact, 14,485 (72.3%) fuzzy\n",
      "Susie_Orangutan-CAT: 14,377 ICE isoforms. 10,273 (71.5%) exact, 11,585 (80.6%) fuzzy\n",
      "panTro4-Ensembl V91: 18,665 ICE isoforms. 10,258 (55.0%) exact, 12,003 (64.3%) fuzzy\n",
      "Susie_Gorilla-CAT: 22,383 ICE isoforms. 15,155 (67.7%) exact, 17,223 (76.9%) fuzzy\n",
      "panTro4-CAT: 17,455 ICE isoforms. 11,180 (64.1%) exact, 12,761 (73.1%) fuzzy\n",
      "ponAbe2-CAT: 13,102 ICE isoforms. 6,871 (52.4%) exact, 8,315 (63.5%) fuzzy\n",
      "ponAbe2-Ensembl V90: 13,102 ICE isoforms. 5,009 (38.2%) exact, 6,435 (49.1%) fuzzy\n",
      "Human-GENCODE V27: 19,271 ICE isoforms. 14,387 (74.7%) exact, 15,834 (82.2%) fuzzy\n",
      "Clint_Chimp-CAT: 18,863 ICE isoforms. 13,958 (74.0%) exact, 15,495 (82.1%) fuzzy\n",
      "gorGor4-Ensembl V91: 20,046 ICE isoforms. 10,155 (50.7%) exact, 11,923 (59.5%) fuzzy\n"
     ]
    }
   ],
   "source": [
    "for (genome, annotation), d in data_holder.iteritems():\n",
    "    iso_txs = d['iso_txs']\n",
    "    divided_clusters = d['divided_clusters']\n",
    "    num_exact = 0\n",
    "    for cluster_id, (ensts, isos) in divided_clusters.iteritems():\n",
    "        for iso in isos:\n",
    "            iso_unstranded = {ChromosomeInterval(x.chromosome, x.start, x.stop, '.') for x in iso.intron_intervals if len(x) > 30}\n",
    "            for enst in ensts:\n",
    "                enst_unstranded = {ChromosomeInterval(x.chromosome, x.start, x.stop, '.') for x in enst.intron_intervals if len(x) > 30}\n",
    "                if len(iso_unstranded & enst_unstranded) == len(iso_unstranded):\n",
    "                    num_exact += 1\n",
    "                    break\n",
    "    fuzzy_matches = calculate_subset_matches(divided_clusters, fuzz_distance=8)\n",
    "    num_iso = len(iso_txs)\n",
    "    num_fuzzy = len(fuzzy_matches)\n",
    "    percent_exact = 1.0 * num_exact / num_iso\n",
    "    percent_fuzzy = 1.0 * num_fuzzy / num_iso\n",
    "    print '{}-{}: {:,} ICE isoforms. {:,} ({:.1%}) exact, {:,} ({:.1%}) fuzzy'.format(genome, annotation, num_iso, num_exact, percent_exact, num_fuzzy, percent_fuzzy)"
   ]
  },
  {
   "cell_type": "code",
   "execution_count": 54,
   "metadata": {
    "collapsed": false
   },
   "outputs": [],
   "source": [
    "import tools.transcripts\n",
    "reload(tools.transcripts)\n",
    "from tools.transcripts import *"
   ]
  },
  {
   "cell_type": "code",
   "execution_count": null,
   "metadata": {
    "collapsed": true
   },
   "outputs": [],
   "source": []
  }
 ],
 "metadata": {
  "kernelspec": {
   "display_name": "Python [Root]",
   "language": "python",
   "name": "Python [Root]"
  },
  "language_info": {
   "codemirror_mode": {
    "name": "ipython",
    "version": 2
   },
   "file_extension": ".py",
   "mimetype": "text/x-python",
   "name": "python",
   "nbconvert_exporter": "python",
   "pygments_lexer": "ipython2",
   "version": "2.7.11"
  }
 },
 "nbformat": 4,
 "nbformat_minor": 0
}
