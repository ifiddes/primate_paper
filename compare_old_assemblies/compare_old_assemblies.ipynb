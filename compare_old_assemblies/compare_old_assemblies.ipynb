{
 "cells": [
  {
   "cell_type": "code",
   "execution_count": 1,
   "metadata": {
    "collapsed": false
   },
   "outputs": [],
   "source": [
    "import pandas as pd\n",
    "from tools.bio import *\n",
    "from tools.transcripts import *\n",
    "from tools.sqlInterface import *\n",
    "from tools.gff3 import *\n",
    "from tools.misc import *\n",
    "from collections import *\n",
    "from cat.plots import *\n",
    "from tools.psl import *\n",
    "from cat.consensus import *"
   ]
  },
  {
   "cell_type": "code",
   "execution_count": 5,
   "metadata": {
    "collapsed": false
   },
   "outputs": [],
   "source": [
    "old_chimp = pd.concat([load_metrics_from_db('/hive/groups/recon/projs/primates/original_primates/redo_annotation_indel/databases/Chimp.db', tx_mode, 'mRNA') for tx_mode in ['transMap', 'augTM', 'augTMR']])\n",
    "old_orang = pd.concat([load_metrics_from_db('/hive/groups/recon/projs/primates/original_primates/redo_annotation_indel/databases/Orangutan.db', tx_mode, 'mRNA') for tx_mode in ['transMap', 'augTM', 'augTMR']])\n",
    "new_chimp = pd.concat([load_metrics_from_db('../../databases/Clint_Chimp.db', tx_mode, 'mRNA') for tx_mode in ['transMap', 'augTM', 'augTMR']])\n",
    "new_orang = pd.concat([load_metrics_from_db('../../databases/Susie_Orangutan.db', tx_mode, 'mRNA') for tx_mode in ['transMap', 'augTM', 'augTMR']])"
   ]
  },
  {
   "cell_type": "code",
   "execution_count": 9,
   "metadata": {
    "collapsed": false
   },
   "outputs": [],
   "source": [
    "# load the consensus gene sets to filter the transMap\n",
    "gene_sets = {'chimp': pd.read_csv('../../consensus_gene_set/Clint_Chimp.gp_info', sep='\\t', header=0),\n",
    "             'chimp_old': pd.read_csv('/hive/groups/recon/projs/primates/original_primates/redo_annotation_indel/consensus_gene_set/Chimp.gp_info', sep='\\t', header=0),\n",
    "             'orang': pd.read_csv('../../consensus_gene_set/Susie_Orangutan.gp_info', sep='\\t', header=0),\n",
    "             'orang_old': pd.read_csv('/hive/groups/recon/projs/primates/original_primates/redo_annotation_indel/consensus_gene_set/Orangutan.gp_info', sep='\\t', header=0)}"
   ]
  },
  {
   "cell_type": "code",
   "execution_count": 10,
   "metadata": {
    "collapsed": false
   },
   "outputs": [],
   "source": [
    "chimp_merged = new_chimp.merge(gene_sets['chimp'], left_on='AlignmentId', right_on='alignment_id')\n",
    "old_chimp_merged = old_chimp.merge(gene_sets['chimp_old'], left_on='AlignmentId', right_on='alignment_id')\n",
    "\n",
    "orang_merged = new_orang.merge(gene_sets['orang'], left_on='AlignmentId', right_on='alignment_id')\n",
    "old_orang_merged = old_orang.merge(gene_sets['orang_old'], left_on='AlignmentId', right_on='alignment_id')"
   ]
  },
  {
   "cell_type": "code",
   "execution_count": 11,
   "metadata": {
    "collapsed": true
   },
   "outputs": [],
   "source": [
    "chimp_merged = chimp_merged[['source_transcript', 'AlnCoverage', 'AlnIdentity']]\n",
    "old_chimp_merged = old_chimp_merged[['source_transcript', 'AlnCoverage', 'AlnIdentity']]\n",
    "orang_merged = orang_merged[['source_transcript', 'AlnCoverage', 'AlnIdentity']]\n",
    "old_orang_merged = old_orang_merged[['source_transcript', 'AlnCoverage', 'AlnIdentity']]"
   ]
  },
  {
   "cell_type": "code",
   "execution_count": 12,
   "metadata": {
    "collapsed": true
   },
   "outputs": [],
   "source": [
    "chimp = chimp_merged.merge(old_chimp_merged, on='source_transcript', suffixes=['_new', '_old'])\n",
    "orang = orang_merged.merge(old_orang_merged, on='source_transcript', suffixes=['_new', '_old'])"
   ]
  },
  {
   "cell_type": "code",
   "execution_count": 13,
   "metadata": {
    "collapsed": true
   },
   "outputs": [],
   "source": [
    "chimp['cov delta'] = chimp['AlnCoverage_new'] - chimp['AlnCoverage_old']\n",
    "chimp['ident delta'] = chimp['AlnIdentity_new'] - chimp['AlnIdentity_old']\n",
    "orang['cov delta'] = orang['AlnCoverage_new'] - orang['AlnCoverage_old']\n",
    "orang['ident delta'] = orang['AlnIdentity_new'] - orang['AlnIdentity_old']"
   ]
  },
  {
   "cell_type": "code",
   "execution_count": 14,
   "metadata": {
    "collapsed": true
   },
   "outputs": [],
   "source": [
    "chimp['genome'] = ['Chimpanzee'] * len(chimp)\n",
    "orang['genome'] = ['Orangutan'] * len(orang)\n",
    "\n",
    "merged_df = pd.concat([chimp, orang])\n",
    "merged_df = merged_df.drop(['AlnCoverage_new', 'AlnIdentity_new', 'AlnCoverage_old', 'AlnIdentity_old'], axis=1)\n",
    "merged_df = pd.melt(merged_df, id_vars=['source_transcript', 'genome'])"
   ]
  },
  {
   "cell_type": "code",
   "execution_count": 18,
   "metadata": {
    "collapsed": false
   },
   "outputs": [],
   "source": [
    "def find_counts(df, genome, variable):\n",
    "    tot = df[(df.genome == genome) & (df.variable == variable)]\n",
    "    nonzero = tot[tot.value != 0]\n",
    "    return len(nonzero), len(tot) - len(nonzero)\n",
    "\n",
    "\n",
    "counts = [['Chimpanzee', 'identity', find_counts(merged_df, 'Chimpanzee', 'ident delta')],\n",
    "         ['Chimpanzee', 'coverage', find_counts(merged_df, 'Chimpanzee', 'cov delta')],\n",
    "         ['Orangutan', 'identity', find_counts(merged_df, 'Orangutan', 'ident delta')],\n",
    "         ['Orangutan', 'coverage', find_counts(merged_df, 'Orangutan', 'cov delta')]]\n",
    "\n",
    "counts = [[x[0], x[1], x[2][0], x[2][1]] for x in counts]\n",
    "count_df = pd.DataFrame(counts, columns=['genome', 'variable', 'changed', 'unchanged'])"
   ]
  },
  {
   "cell_type": "code",
   "execution_count": 21,
   "metadata": {
    "collapsed": false
   },
   "outputs": [],
   "source": [
    "cov_df = merged_df[(merged_df.variable == 'cov delta') & (merged_df.value != 0)].drop('variable', axis=1).set_index('source_transcript')\n",
    "cov_df['value'] = pd.to_numeric(cov_df['value'])\n",
    "identity_df = merged_df[(merged_df.variable == 'ident delta') & (merged_df.value != 0)].drop('variable', axis=1).set_index('source_transcript')\n",
    "identity_df['value'] = pd.to_numeric(identity_df['value'])\n",
    "\n",
    "with open('primate_delta_coverage_identity.pdf', 'w') as outf, PdfPages(outf) as pdf:\n",
    "    fig, axes = plt.subplots(ncols=2, nrows=2)\n",
    "    g = sns.boxplot(y='value', x='genome', data=cov_df, ax=axes[0][0], showfliers=False)\n",
    "    g.set_xticklabels(g.axes.get_xticklabels(), rotation=90)\n",
    "    g.set_ylabel(r'$\\Delta$ coverage')\n",
    "    g.set_xlabel('')\n",
    "    g.set_xticklabels('')\n",
    "    g.set_title('Change in transMap metrics\\nbetween assemblies')\n",
    "    g.set_ylim(-30, 30)\n",
    "    g = sns.boxplot(y='value', x='genome', data=identity_df, ax=axes[1][0], showfliers=False)\n",
    "    g.set_ylim(-1, 1)\n",
    "    g.set_xticklabels(g.axes.get_xticklabels(), rotation=90)\n",
    "    g.set_ylabel(r'$\\Delta$ identity')\n",
    "    g.set_xlabel('')\n",
    "    sns.despine()\n",
    "\n",
    "\n",
    "    cov_vals = count_df[count_df.variable == 'coverage'].as_matrix(columns=['changed', 'unchanged'])\n",
    "    axes[0][1].bar(1, cov_vals[0][0], 0.7, color=sns.color_palette()[0], alpha=0.8)\n",
    "    axes[0][1].bar(1, cov_vals[0][1], 0.7, color=sns.color_palette()[0], bottom=cov_vals[0][0], hatch='//', alpha=0.35)\n",
    "    axes[0][1].bar(2, cov_vals[1][0], 0.7, color=sns.color_palette()[1], alpha=0.8)\n",
    "    axes[0][1].bar(2, cov_vals[1][1], 0.7, color=sns.color_palette()[1], bottom=cov_vals[1][0], hatch='//', alpha=0.35)\n",
    "    ident_vals = count_df[count_df.variable == 'identity'].as_matrix(columns=['changed', 'unchanged'])\n",
    "    axes[1][1].bar(1, ident_vals[0][0], 0.7, color=sns.color_palette()[0], alpha=0.8)\n",
    "    axes[1][1].bar(1, ident_vals[0][1], 0.7, color=sns.color_palette()[0], bottom=ident_vals[0][0], hatch='//', alpha=0.35)\n",
    "    axes[1][1].bar(2, ident_vals[1][0], 0.7, color=sns.color_palette()[1], alpha=0.8)\n",
    "    axes[1][1].bar(2, ident_vals[1][1], 0.7, color=sns.color_palette()[1], bottom=ident_vals[1][0], hatch='//', alpha=0.35)\n",
    "    axes[0][1].set_xticks([1.35, 2.35])\n",
    "    axes[1][1].set_xticks([1.35, 2.35])\n",
    "    axes[0][1].set_xticklabels(['', ''], rotation=90)\n",
    "    axes[1][1].set_xticklabels(['Chimpanzee', 'Orangutan'], rotation=90)\n",
    "    axes[0][1].set_title('Number of transcripts\\nwith metric changes')\n",
    "    plt.subplots_adjust(left=0.125, right=0.9, bottom=0.1, top=0.9, wspace=0.7, hspace=0.2)\n",
    "    multipage_close(pdf, False)"
   ]
  },
  {
   "cell_type": "code",
   "execution_count": 22,
   "metadata": {
    "collapsed": false
   },
   "outputs": [
    {
     "name": "stdout",
     "output_type": "stream",
     "text": [
      "       genome  variable  changed  unchanged\n",
      "0  Chimpanzee  identity    38475      39805\n",
      "1  Chimpanzee  coverage    23472      54808\n",
      "2   Orangutan  identity    51559      26268\n",
      "3   Orangutan  coverage    35487      42340\n"
     ]
    }
   ],
   "source": [
    "print count_df"
   ]
  },
  {
   "cell_type": "code",
   "execution_count": 23,
   "metadata": {
    "collapsed": false
   },
   "outputs": [
    {
     "data": {
      "text/html": [
       "<div>\n",
       "<table border=\"1\" class=\"dataframe\">\n",
       "  <thead>\n",
       "    <tr style=\"text-align: right;\">\n",
       "      <th></th>\n",
       "      <th>value</th>\n",
       "    </tr>\n",
       "    <tr>\n",
       "      <th>genome</th>\n",
       "      <th></th>\n",
       "    </tr>\n",
       "  </thead>\n",
       "  <tbody>\n",
       "    <tr>\n",
       "      <th>Chimpanzee</th>\n",
       "      <td>9.716985</td>\n",
       "    </tr>\n",
       "    <tr>\n",
       "      <th>Orangutan</th>\n",
       "      <td>10.198749</td>\n",
       "    </tr>\n",
       "  </tbody>\n",
       "</table>\n",
       "</div>"
      ],
      "text/plain": [
       "                value\n",
       "genome               \n",
       "Chimpanzee   9.716985\n",
       "Orangutan   10.198749"
      ]
     },
     "execution_count": 23,
     "metadata": {},
     "output_type": "execute_result"
    }
   ],
   "source": [
    "cov_df.groupby('genome').aggregate(np.mean)"
   ]
  },
  {
   "cell_type": "code",
   "execution_count": 24,
   "metadata": {
    "collapsed": false
   },
   "outputs": [
    {
     "data": {
      "text/html": [
       "<div>\n",
       "<table border=\"1\" class=\"dataframe\">\n",
       "  <thead>\n",
       "    <tr style=\"text-align: right;\">\n",
       "      <th></th>\n",
       "      <th>value</th>\n",
       "    </tr>\n",
       "    <tr>\n",
       "      <th>genome</th>\n",
       "      <th></th>\n",
       "    </tr>\n",
       "  </thead>\n",
       "  <tbody>\n",
       "    <tr>\n",
       "      <th>Chimpanzee</th>\n",
       "      <td>1.447396</td>\n",
       "    </tr>\n",
       "    <tr>\n",
       "      <th>Orangutan</th>\n",
       "      <td>1.569747</td>\n",
       "    </tr>\n",
       "  </tbody>\n",
       "</table>\n",
       "</div>"
      ],
      "text/plain": [
       "               value\n",
       "genome              \n",
       "Chimpanzee  1.447396\n",
       "Orangutan   1.569747"
      ]
     },
     "execution_count": 24,
     "metadata": {},
     "output_type": "execute_result"
    }
   ],
   "source": [
    "identity_df.groupby('genome').aggregate(np.mean)"
   ]
  },
  {
   "cell_type": "code",
   "execution_count": 25,
   "metadata": {
    "collapsed": false
   },
   "outputs": [
    {
     "name": "stdout",
     "output_type": "stream",
     "text": [
      "AlnCoverage_new    98.855413\n",
      "AlnCoverage_old    95.941807\n",
      "AlnIdentity_new    98.846267\n",
      "AlnIdentity_old    98.134865\n",
      "dtype: float64\n"
     ]
    }
   ],
   "source": [
    "print chimp[['AlnCoverage_new', 'AlnCoverage_old', 'AlnIdentity_new', 'AlnIdentity_old']].mean()"
   ]
  },
  {
   "cell_type": "code",
   "execution_count": 26,
   "metadata": {
    "collapsed": false
   },
   "outputs": [
    {
     "name": "stdout",
     "output_type": "stream",
     "text": [
      "AlnCoverage_new    98.083997\n",
      "AlnCoverage_old    93.433644\n",
      "AlnIdentity_new    97.491948\n",
      "AlnIdentity_old    96.452019\n",
      "dtype: float64\n"
     ]
    }
   ],
   "source": [
    "print orang[['AlnCoverage_new', 'AlnCoverage_old', 'AlnIdentity_new', 'AlnIdentity_old']].mean()"
   ]
  },
  {
   "cell_type": "code",
   "execution_count": null,
   "metadata": {
    "collapsed": true
   },
   "outputs": [],
   "source": []
  }
 ],
 "metadata": {
  "kernelspec": {
   "display_name": "Python [Root]",
   "language": "python",
   "name": "Python [Root]"
  },
  "language_info": {
   "codemirror_mode": {
    "name": "ipython",
    "version": 2
   },
   "file_extension": ".py",
   "mimetype": "text/x-python",
   "name": "python",
   "nbconvert_exporter": "python",
   "pygments_lexer": "ipython2",
   "version": "2.7.11"
  }
 },
 "nbformat": 4,
 "nbformat_minor": 0
}
