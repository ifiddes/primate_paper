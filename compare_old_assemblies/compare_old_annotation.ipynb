{
 "cells": [
  {
   "cell_type": "code",
   "execution_count": 2,
   "metadata": {
    "collapsed": false
   },
   "outputs": [],
   "source": [
    "# load old data\n",
    "import pandas as pd\n",
    "d = '/hive/groups/recon/projs/primates/original_primates/redo_annotation_indel/consensus_gene_set'\n",
    "dfs = {}\n",
    "for g in ['Chimp', 'Gorilla', 'Orangutan']:\n",
    "    df = pd.read_csv(os.path.join(d, g + '.filtered.gp_info'), sep='\\t')\n",
    "    dfs[g] = df"
   ]
  },
  {
   "cell_type": "code",
   "execution_count": 33,
   "metadata": {
    "collapsed": true
   },
   "outputs": [],
   "source": [
    "# load ensembl\n",
    "d = '/hive/groups/recon/projs/primates/primates_indel_corrected_bionano_cut/primate_paper/kallisto_expression'\n",
    "files = {'Gorilla': os.path.join(d, 'Gorilla_gorilla.gorGor4.91.gp'),\n",
    "        'Orangutan': os.path.join(d, 'Pongo_abelii.PPYG2.88.gp'),\n",
    "        'Chimp': os.path.join(d, 'Pan_troglodytes.Pan_tro_3.0.91.gp')}\n",
    "\n",
    "from tools.transcripts import *\n",
    "tx_dicts = {}\n",
    "for g, f in files.iteritems():\n",
    "    tx_dicts[g] = get_gene_pred_dict(f)"
   ]
  },
  {
   "cell_type": "code",
   "execution_count": 7,
   "metadata": {
    "collapsed": false
   },
   "outputs": [],
   "source": [
    "# counts\n",
    "new_counts = []\n",
    "for g, df in dfs.iteritems():\n",
    "    d = df.groupby('gene_id').first()\n",
    "    c = d[d.gene_biotype == 'protein_coding']\n",
    "    new_counts.append([g, len(df), len(d), len(c)])"
   ]
  },
  {
   "cell_type": "code",
   "execution_count": 17,
   "metadata": {
    "collapsed": false
   },
   "outputs": [],
   "source": [
    "old_counts = []\n",
    "for g, t in tx_dicts.iteritems():\n",
    "    d = {x.name2 for x in t.itervalues()}\n",
    "    c = {x.name2 for x in t.itervalues() if x.cds_size > 0}\n",
    "    old_counts.append([g, len(t), len(d), len(c)])"
   ]
  },
  {
   "cell_type": "code",
   "execution_count": 18,
   "metadata": {
    "collapsed": false
   },
   "outputs": [],
   "source": [
    "new_counts = pd.DataFrame(new_counts, columns=['genome', 'transcripts', 'genes', 'coding genes'])\n",
    "old_counts = pd.DataFrame(old_counts, columns=['genome', 'transcripts', 'genes', 'coding genes'])"
   ]
  },
  {
   "cell_type": "code",
   "execution_count": 19,
   "metadata": {
    "collapsed": false
   },
   "outputs": [
    {
     "data": {
      "text/html": [
       "<div>\n",
       "<table border=\"1\" class=\"dataframe\">\n",
       "  <thead>\n",
       "    <tr style=\"text-align: right;\">\n",
       "      <th></th>\n",
       "      <th>genome</th>\n",
       "      <th>transcripts</th>\n",
       "      <th>genes</th>\n",
       "      <th>coding genes</th>\n",
       "    </tr>\n",
       "  </thead>\n",
       "  <tbody>\n",
       "    <tr>\n",
       "      <th>1</th>\n",
       "      <td>Chimp</td>\n",
       "      <td>189551</td>\n",
       "      <td>55603</td>\n",
       "      <td>18443</td>\n",
       "    </tr>\n",
       "    <tr>\n",
       "      <th>0</th>\n",
       "      <td>Gorilla</td>\n",
       "      <td>188403</td>\n",
       "      <td>55164</td>\n",
       "      <td>18392</td>\n",
       "    </tr>\n",
       "    <tr>\n",
       "      <th>2</th>\n",
       "      <td>Orangutan</td>\n",
       "      <td>186992</td>\n",
       "      <td>54502</td>\n",
       "      <td>18259</td>\n",
       "    </tr>\n",
       "  </tbody>\n",
       "</table>\n",
       "</div>"
      ],
      "text/plain": [
       "      genome  transcripts  genes  coding genes\n",
       "1      Chimp       189551  55603         18443\n",
       "0    Gorilla       188403  55164         18392\n",
       "2  Orangutan       186992  54502         18259"
      ]
     },
     "execution_count": 19,
     "metadata": {},
     "output_type": "execute_result"
    }
   ],
   "source": [
    "new_counts.sort_values('genome')"
   ]
  },
  {
   "cell_type": "code",
   "execution_count": 31,
   "metadata": {
    "collapsed": false
   },
   "outputs": [
    {
     "data": {
      "text/plain": [
       "18364.666666666668"
      ]
     },
     "execution_count": 31,
     "metadata": {},
     "output_type": "execute_result"
    }
   ],
   "source": [
    "new_counts['coding genes'].mean()"
   ]
  },
  {
   "cell_type": "code",
   "execution_count": 20,
   "metadata": {
    "collapsed": false
   },
   "outputs": [
    {
     "data": {
      "text/html": [
       "<div>\n",
       "<table border=\"1\" class=\"dataframe\">\n",
       "  <thead>\n",
       "    <tr style=\"text-align: right;\">\n",
       "      <th></th>\n",
       "      <th>genome</th>\n",
       "      <th>transcripts</th>\n",
       "      <th>genes</th>\n",
       "      <th>coding genes</th>\n",
       "    </tr>\n",
       "  </thead>\n",
       "  <tbody>\n",
       "    <tr>\n",
       "      <th>0</th>\n",
       "      <td>Chimp</td>\n",
       "      <td>58366</td>\n",
       "      <td>31951</td>\n",
       "      <td>23534</td>\n",
       "    </tr>\n",
       "    <tr>\n",
       "      <th>2</th>\n",
       "      <td>Gorilla</td>\n",
       "      <td>53003</td>\n",
       "      <td>29603</td>\n",
       "      <td>21795</td>\n",
       "    </tr>\n",
       "    <tr>\n",
       "      <th>1</th>\n",
       "      <td>Orangutan</td>\n",
       "      <td>29447</td>\n",
       "      <td>28443</td>\n",
       "      <td>20424</td>\n",
       "    </tr>\n",
       "  </tbody>\n",
       "</table>\n",
       "</div>"
      ],
      "text/plain": [
       "      genome  transcripts  genes  coding genes\n",
       "0      Chimp        58366  31951         23534\n",
       "2    Gorilla        53003  29603         21795\n",
       "1  Orangutan        29447  28443         20424"
      ]
     },
     "execution_count": 20,
     "metadata": {},
     "output_type": "execute_result"
    }
   ],
   "source": [
    "old_counts.sort_values('genome')"
   ]
  },
  {
   "cell_type": "code",
   "execution_count": 32,
   "metadata": {
    "collapsed": false
   },
   "outputs": [
    {
     "data": {
      "text/plain": [
       "21917.666666666668"
      ]
     },
     "execution_count": 32,
     "metadata": {},
     "output_type": "execute_result"
    }
   ],
   "source": [
    "old_counts['coding genes'].mean()"
   ]
  },
  {
   "cell_type": "code",
   "execution_count": 23,
   "metadata": {
    "collapsed": false
   },
   "outputs": [],
   "source": [
    "t = new_counts.sort_values('genome').set_index('genome') - old_counts.sort_values('genome').set_index('genome')"
   ]
  },
  {
   "cell_type": "code",
   "execution_count": 28,
   "metadata": {
    "collapsed": false
   },
   "outputs": [
    {
     "data": {
      "text/plain": [
       "transcripts     141376.666667\n",
       "genes            25090.666667\n",
       "coding genes     -3553.000000\n",
       "dtype: float64"
      ]
     },
     "execution_count": 28,
     "metadata": {},
     "output_type": "execute_result"
    }
   ],
   "source": [
    "t.mean(axis=0)"
   ]
  },
  {
   "cell_type": "code",
   "execution_count": 29,
   "metadata": {
    "collapsed": false
   },
   "outputs": [
    {
     "name": "stdout",
     "output_type": "stream",
     "text": [
      "           transcripts  genes  coding genes\n",
      "genome                                     \n",
      "Chimp           131185  23652         -5091\n",
      "Gorilla         135400  25561         -3403\n",
      "Orangutan       157545  26059         -2165\n"
     ]
    }
   ],
   "source": [
    "print t"
   ]
  },
  {
   "cell_type": "code",
   "execution_count": 53,
   "metadata": {
    "collapsed": false
   },
   "outputs": [
    {
     "name": "stdout",
     "output_type": "stream",
     "text": [
      "2081.66666667\n"
     ]
    }
   ],
   "source": [
    "print (old_counts['coding genes']- 19836).mean()"
   ]
  },
  {
   "cell_type": "code",
   "execution_count": 129,
   "metadata": {
    "collapsed": true
   },
   "outputs": [],
   "source": [
    "from tools.fileOps import *\n",
    "d = '/hive/groups/recon/projs/primates/original_primates/redo_annotation_indel/consensus_gene_set'\n",
    "for g, f in files.iteritems():\n",
    "    # strip chr from cat and then filter later\n",
    "    cat = os.path.join(d, g + '.filtered.gp')\n",
    "    if g != 'Orangutan':\n",
    "        with TemporaryFilePath() as tmp:\n",
    "            !sed 's/chr//g' {cat} > {tmp}\n",
    "            !clusterGenes {g}.txt no {f} {tmp}\n",
    "    else:\n",
    "        !clusterGenes {g}.txt no {f} {cat}"
   ]
  },
  {
   "cell_type": "code",
   "execution_count": 150,
   "metadata": {
    "collapsed": true
   },
   "outputs": [],
   "source": [
    "clusters = {}\n",
    "\n",
    "useful_chroms = set(map(str, range(1, 23)))\n",
    "\n",
    "for g, f in files.iteritems():\n",
    "    cdf = pd.read_csv(g + '.txt', sep='\\t')\n",
    "    if g != 'Orangutan':\n",
    "        clusters[g] = cdf[cdf.chrom.isin(useful_chroms)]\n",
    "    else:\n",
    "        clusters[g] = cdf"
   ]
  },
  {
   "cell_type": "code",
   "execution_count": 36,
   "metadata": {
    "collapsed": false
   },
   "outputs": [],
   "source": [
    "# biotype plot\n",
    "name_map = {\n",
    "    '3prime_overlapping_ncRNA': 'ncRNA',\n",
    "    '3prime_overlapping_ncrna': 'ncRNA',\n",
    "    'IG_C_gene': 'protein coding',\n",
    "    'IG_C_pseudogene': 'pseudogene',\n",
    "    'IG_D_gene': 'protein coding',\n",
    "    'IG_D_pseudogene': 'pseudogene',\n",
    "    'IG_J_gene': 'protein coding',\n",
    "    'IG_J_pseudogene': 'pseudogene',\n",
    "    'IG_V_gene': 'protein coding',\n",
    "    'IG_V_pseudogene': 'pseudogene',\n",
    "    'IG_pseudogene': 'pseudogene',\n",
    "    'Mt_rRNA': 'ncRNA',\n",
    "    'Mt_tRNA': 'ncRNA',\n",
    "    'TEC': 'ncRNA',\n",
    "    'TR_C_gene': 'protein coding',\n",
    "    'TR_C_pseudogene': 'pseudogene',\n",
    "    'TR_J_gene': 'protein coding',\n",
    "    'TR_J_pseudogene': 'pseudogene',\n",
    "    'TR_V_gene': 'protein coding',\n",
    "    'TR_V_pseudogene': 'pseudogene',\n",
    "    'antisense': 'ncRNA',\n",
    "    'antisense_RNA': 'ncRNA',\n",
    "    'bidirectional_promoter_lncRNA': 'lncRNA',\n",
    "    'bidirectional_promoter_lncrna': 'lncRNA',\n",
    "    'lincRNA': 'lncRNA',\n",
    "    'macro_lncRNA': 'ncRNA',\n",
    "    'miRNA': 'ncRNA',\n",
    "    'misc_RNA': 'ncRNA',\n",
    "    'non_coding': 'ncRNA',\n",
    "    'non_stop_decay': 'protein coding',\n",
    "    'nonsense_mediated_decay': 'protein coding',\n",
    "    'polymorphic_pseudogene': 'protein coding',  # coding in some humans\n",
    "    'processed_pseudogene': 'ncRNA',\n",
    "    'processed_transcript': 'ncRNA',\n",
    "    'protein_coding': 'protein coding',\n",
    "    'pseudogene': 'ncRNA',\n",
    "    'rRNA': 'ncRNA',\n",
    "    'retained_intron': 'ncRNA',\n",
    "    'ribozyme': 'ncRNA',\n",
    "    'sRNA': 'ncRNA',\n",
    "    'scaRNA': 'ncRNA',\n",
    "    'scRNA': 'ncRNA',\n",
    "    'sense_intronic': 'ncRNA',\n",
    "    'sense_overlapping': 'ncRNA',\n",
    "    'snRNA': 'ncRNA',\n",
    "    'snoRNA': 'ncRNA',\n",
    "    'transcribed_processed_pseudogene': 'pseudogene',\n",
    "    'transcribed_unitary_pseudogene': 'pseudogene',\n",
    "    'transcribed_unprocessed_pseudogene': 'pseudogene',\n",
    "    'translated_unprocessed_pseudogene': 'pseudogene',\n",
    "    'translated_processed_pseudogene': 'pseudogene',\n",
    "    'unitary_pseudogene': 'ncRNA',   # only in human\n",
    "    'unknown_likely_coding': 'protein coding',\n",
    "    'unprocessed_pseudogene': 'pseudogene',\n",
    "    'vaultRNA': 'ncRNA',\n",
    "'TR_D_gene': 'protein coding',\n",
    "u'IG_LV_gene': 'protein coding'}\n",
    "\n",
    "\n",
    "gtf_dir = '/hive/groups/recon/projs/primates/primates_indel_corrected_bionano_cut/primate_paper/kallisto_expression'\n",
    "gtfs = {'panTro4/Ensembl V91': os.path.join(gtf_dir, 'Pan_troglodytes.Pan_tro_3.0.91.gtf'),\n",
    "       'gorGor4/Ensembl V91': os.path.join(gtf_dir, 'Gorilla_gorilla.gorGor4.91.gtf'),\n",
    "       'ponAbe2/Ensembl v90': os.path.join(gtf_dir, 'Pongo_abelii.PPYG2.88.gtf')}\n",
    "from tools.misc import *\n",
    "def construct_ensembl_map(gtf):\n",
    "    lines = [x.split('\\t') for x in open(gtf) if not x.startswith('#')]\n",
    "    ensembl_map = []\n",
    "    for l in lines:\n",
    "        x = parse_gtf_attr_line(l[-1])\n",
    "        try:\n",
    "            ensembl_map.append([x['gene_id'], x['transcript_id'], x['gene_biotype']])\n",
    "        except KeyError:\n",
    "            continue\n",
    "    return pd.DataFrame(ensembl_map, columns=['gene_id', 'transcript_id', 'gene_biotype'])\n",
    "\n",
    "gtf_dfs = {}\n",
    "for g, gtf in gtfs.iteritems():\n",
    "    gtf_dfs[g] = construct_ensembl_map(gtf)"
   ]
  },
  {
   "cell_type": "code",
   "execution_count": 43,
   "metadata": {
    "collapsed": false
   },
   "outputs": [],
   "source": [
    "# munge into counts\n",
    "counts = []\n",
    "for g, df in gtf_dfs.iteritems():\n",
    "    d = df.groupby('gene_id').first().reset_index()\n",
    "    d['simplified gene biotype'] = [name_map[x] for x in d.gene_biotype]\n",
    "    c = Counter(d['simplified gene biotype'])\n",
    "    for x, y in c.iteritems():\n",
    "        counts.append([g, x, y])\n",
    "count_df = pd.DataFrame(counts, columns=['genome', 'biotype', 'count'])"
   ]
  },
  {
   "cell_type": "code",
   "execution_count": 50,
   "metadata": {
    "collapsed": false
   },
   "outputs": [],
   "source": [
    "from cat.plots import *\n",
    "with open('ensembl_primate_biotypes.pdf', 'w') as outf, PdfPages(outf) as pdf:\n",
    "    g = sns.factorplot(data=count_df, x='genome', y='count', hue='biotype', kind='bar',\n",
    "                       hue_order=order, x_order=['panTro4/Ensembl V91', 'gorGor4/Ensembl V91', 'ponAbe2/Ensembl v99'], size=6)\n",
    "    ax = g.axes[0][0]\n",
    "    ax.set_ylim(0, 25000)\n",
    "    ax.set_ylabel('Number of genes')\n",
    "    g.fig.suptitle('Biotypes in Ensembl annotation of legacy great apes')\n",
    "    g.set_xticklabels(rotation=90)\n",
    "    g.fig.subplots_adjust(top=0.85, bottom=0.4)\n",
    "    pdf.savefig(bboxes_inches='tight')\n",
    "    plt.close('all')"
   ]
  },
  {
   "cell_type": "code",
   "execution_count": 51,
   "metadata": {
    "collapsed": false
   },
   "outputs": [
    {
     "name": "stdout",
     "output_type": "stream",
     "text": [
      "                genome         biotype  count\n",
      "0  ponAbe2/Ensembl v99  protein coding  20424\n",
      "1  ponAbe2/Ensembl v99           ncRNA   8019\n",
      "2  gorGor4/Ensembl V91  protein coding  21795\n",
      "3  gorGor4/Ensembl V91           ncRNA   7808\n",
      "4  panTro4/Ensembl V91  protein coding  23534\n",
      "5  panTro4/Ensembl V91           ncRNA   8417\n"
     ]
    }
   ],
   "source": [
    "print count_df"
   ]
  },
  {
   "cell_type": "code",
   "execution_count": 66,
   "metadata": {
    "collapsed": true
   },
   "outputs": [],
   "source": [
    "gtf_dfs_new_keys = {'Gorilla': gtf_dfs['gorGor4/Ensembl V91'],\n",
    "                   'Chimp': gtf_dfs['panTro4/Ensembl V91'],\n",
    "                   'Orangutan': gtf_dfs['ponAbe2/Ensembl v99']}"
   ]
  },
  {
   "cell_type": "code",
   "execution_count": null,
   "metadata": {
    "collapsed": false
   },
   "outputs": [],
   "source": [
    "# how many clusters are protein coding in non-CAT and non-coding in CAT?\n",
    "biotype_changes = {}\n",
    "for g, df in clusters.iteritems():\n",
    "    # add biotypes\n",
    "    bdf = pd.concat([dfs[g][['transcript_id', 'gene_biotype']], gtf_dfs_new_keys[g][['transcript_id', 'gene_biotype']]])\n",
    "    m = df.merge(bdf, left_on='gene', right_on='transcript_id')\n",
    "    m['simplified_biotype'] = [name_map[x] for x in m.gene_biotype]\n",
    "    m = m.drop_duplicates()\n",
    "    count = Counter()\n",
    "    matches = 0\n",
    "    for cluster_id, s in m.groupby('#cluster'):\n",
    "        cat_portion = s[s.transcript_id.str.contains('_T0')]\n",
    "        ens_portion = s[~s.transcript_id.isin(cat_portion.transcript_id)]\n",
    "        if len(cat_portion) != 0 and len(ens_portion) != 0:\n",
    "            a = frozenset(cat_portion['simplified_biotype'])\n",
    "            b = frozenset(ens_portion['simplified_biotype'])\n",
    "            if a != b:\n",
    "                count[(a, b)] += 1\n",
    "            else:\n",
    "                matches += 1\n",
    "    biotype_changes[g] = [count, matches]"
   ]
  },
  {
   "cell_type": "code",
   "execution_count": null,
   "metadata": {
    "collapsed": false
   },
   "outputs": [],
   "source": [
    "for g, (x, y) in biotype_changes.iteritems():\n",
    "    for (a, b), v in x.iteritems():\n",
    "        print g, a, b, v"
   ]
  },
  {
   "cell_type": "code",
   "execution_count": 163,
   "metadata": {
    "collapsed": false
   },
   "outputs": [
    {
     "name": "stdout",
     "output_type": "stream",
     "text": [
      "Gorilla 1728\n",
      "Chimp 940\n",
      "Orangutan 1270\n"
     ]
    }
   ],
   "source": [
    "for g, (x, y) in biotype_changes.iteritems():\n",
    "    tot = 0\n",
    "    for (a, b), v in x.iteritems():\n",
    "        if 'protein coding' not in a and 'protein coding' in b:\n",
    "            tot += v\n",
    "    print g, tot"
   ]
  },
  {
   "cell_type": "code",
   "execution_count": null,
   "metadata": {
    "collapsed": true
   },
   "outputs": [],
   "source": []
  }
 ],
 "metadata": {
  "kernelspec": {
   "display_name": "Python [Root]",
   "language": "python",
   "name": "Python [Root]"
  },
  "language_info": {
   "codemirror_mode": {
    "name": "ipython",
    "version": 2
   },
   "file_extension": ".py",
   "mimetype": "text/x-python",
   "name": "python",
   "nbconvert_exporter": "python",
   "pygments_lexer": "ipython2",
   "version": "2.7.11"
  }
 },
 "nbformat": 4,
 "nbformat_minor": 0
}
